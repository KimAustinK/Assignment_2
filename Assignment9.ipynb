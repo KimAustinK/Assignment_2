{
  "nbformat": 4,
  "nbformat_minor": 0,
  "metadata": {
    "colab": {
      "name": "Assignment9.ipynb",
      "provenance": [],
      "collapsed_sections": [],
      "authorship_tag": "ABX9TyPGvJjEqJTmTq5ZOh8RoTFN",
      "include_colab_link": true
    },
    "kernelspec": {
      "name": "python3",
      "display_name": "Python 3"
    },
    "language_info": {
      "name": "python"
    }
  },
  "cells": [
    {
      "cell_type": "markdown",
      "metadata": {
        "id": "view-in-github",
        "colab_type": "text"
      },
      "source": [
        "<a href=\"https://colab.research.google.com/github/KimAustinK/Assignment_2/blob/main/Assignment9.ipynb\" target=\"_parent\"><img src=\"https://colab.research.google.com/assets/colab-badge.svg\" alt=\"Open In Colab\"/></a>"
      ]
    },
    {
      "cell_type": "markdown",
      "metadata": {
        "id": "HzdMZhCf_e4c"
      },
      "source": [
        "# Lab 2 - Plotting Vector using NumPy and MatPlotLib"
      ]
    },
    {
      "cell_type": "markdown",
      "metadata": {
        "id": "5dWd0d3N_hgM"
      },
      "source": [
        "### Objectives\n",
        "At the end of this activity you will be able to:\n",
        "1. Be familiar with the libraries in Python for numerical and scientific programming.\n",
        "2. Visualize vectors through Python programming.\n",
        "3. Perform simple vector operations through code."
      ]
    },
    {
      "cell_type": "markdown",
      "metadata": {
        "id": "fb3x0DML_nFg"
      },
      "source": [
        "## Discussion"
      ]
    },
    {
      "cell_type": "markdown",
      "metadata": {
        "id": "8CbUUpkf_nrh"
      },
      "source": [
        "### NumPy"
      ]
    },
    {
      "cell_type": "markdown",
      "metadata": {
        "id": "_3guKW7r_pWL"
      },
      "source": [
        "NumPy or Numerical Python, is mainly used for matrix and vector operations. It is capable of declaring computing and representing matrices. Most Python scientific programming libraries uses NumPy as the basic code."
      ]
    },
    {
      "cell_type": "markdown",
      "metadata": {
        "id": "dhW9lXJs_sRT"
      },
      "source": [
        "Scalars \\\\\n",
        "Represent magnitude or a single value\n",
        "\n",
        "Vectors \\\\\n",
        "Represent magnitude with directors"
      ]
    },
    {
      "cell_type": "markdown",
      "metadata": {
        "id": "O7Ztoux3_t7f"
      },
      "source": [
        "#### Representing Vectors"
      ]
    },
    {
      "cell_type": "markdown",
      "metadata": {
        "id": "9mKfEprt_v8W"
      },
      "source": [
        "Now that you know how to represent vectors using their component and matrix form we can now hard-code them in Python. Let's say that you have the vectors:"
      ]
    },
    {
      "cell_type": "markdown",
      "metadata": {
        "id": "Kkw2Bv5c_ySM"
      },
      "source": [
        "$$ A = 4\\hat{x} + 3\\hat{y} \\\\\n",
        "B = 2\\hat{x} - 5\\hat{y}\\\\\n",
        "C = 4ax + 3ay - 2az \\\\\n",
        "D = 2\\hat{i} - 2\\hat{j} + 3\\hat{k}$$"
      ]
    },
    {
      "cell_type": "markdown",
      "metadata": {
        "id": "ZMhmc8k6_z19"
      },
      "source": [
        "In which it's matrix equivalent is:"
      ]
    },
    {
      "cell_type": "markdown",
      "metadata": {
        "id": "9UF3yO3d_2qv"
      },
      "source": [
        "$$ A = \\begin{bmatrix} 4 \\\\ 3\\end{bmatrix} , B = \\begin{bmatrix} 2 \\\\ -5\\end{bmatrix} , C = \\begin{bmatrix} 4 \\\\ 3 \\\\  -2 \\end{bmatrix}, D = \\begin{bmatrix} 2 \\\\ -2 \\\\ 3\\end{bmatrix}\n",
        "$$\n",
        "$$ A = \\begin{bmatrix} 4 & 3\\end{bmatrix} , B = \\begin{bmatrix} 2 & -5\\end{bmatrix} , C = \\begin{bmatrix} 4 & 3 & -2\\end{bmatrix} , D = \\begin{bmatrix} 2 & -2 & 3\\end{bmatrix} \n",
        "$$"
      ]
    },
    {
      "cell_type": "code",
      "metadata": {
        "id": "r1o7oJyT_d1p"
      },
      "source": [
        "\n",
        "import numpy as np"
      ],
      "execution_count": 3,
      "outputs": []
    },
    {
      "cell_type": "code",
      "metadata": {
        "colab": {
          "base_uri": "https://localhost:8080/"
        },
        "id": "-SAoMAjeAE9W",
        "outputId": "9d797d00-f072-418f-91d3-4348da3a00bf"
      },
      "source": [
        "A = np.array([4, 3])\n",
        "B = np.array([2, -5])\n",
        "C = np.array([\n",
        "              [4],\n",
        "              [3],\n",
        "              [-2]\n",
        "])\n",
        "D = np.array ([[2],\n",
        "              [-2],\n",
        "              [3]])\n",
        "print('Vector A is ', A)\n",
        "print('Vector B is ', B)\n",
        "print('Vector C is ', C)\n",
        "print('Vector D is ', D)"
      ],
      "execution_count": 35,
      "outputs": [
        {
          "output_type": "stream",
          "name": "stdout",
          "text": [
            "Vector A is  [4 3]\n",
            "Vector B is  [ 2 -5]\n",
            "Vector C is  [[ 4]\n",
            " [ 3]\n",
            " [-2]]\n",
            "Vector D is  [[ 2]\n",
            " [-2]\n",
            " [ 3]]\n"
          ]
        }
      ]
    },
    {
      "cell_type": "markdown",
      "metadata": {
        "id": "mTOnRousAHd4"
      },
      "source": [
        "#### Describing vectors in NumPy"
      ]
    },
    {
      "cell_type": "markdown",
      "metadata": {
        "id": "wxneR-mTAJPC"
      },
      "source": [
        "Describing vectors is very important if we want to perform basic to advanced operations with them. The fundamental ways in describing vectors are knowing their shape, size and dimensions."
      ]
    },
    {
      "cell_type": "code",
      "metadata": {
        "colab": {
          "base_uri": "https://localhost:8080/"
        },
        "id": "bvMxufOBAK0h",
        "outputId": "59937829-90a4-4cf0-a67e-18f675fbf14f"
      },
      "source": [
        "A.shape\n",
        "H = np.array([1, 0, 2, 5, -0.2, 0])\n",
        "H.shape\n",
        "C.shape"
      ],
      "execution_count": null,
      "outputs": [
        {
          "output_type": "execute_result",
          "data": {
            "text/plain": [
              "(3, 1)"
            ]
          },
          "metadata": {},
          "execution_count": 8
        }
      ]
    },
    {
      "cell_type": "code",
      "metadata": {
        "colab": {
          "base_uri": "https://localhost:8080/"
        },
        "id": "sqwI-bf-AThA",
        "outputId": "173b6dd7-9f40-4af8-9f66-823588a2fd08"
      },
      "source": [
        "D.size"
      ],
      "execution_count": null,
      "outputs": [
        {
          "output_type": "execute_result",
          "data": {
            "text/plain": [
              "3"
            ]
          },
          "metadata": {},
          "execution_count": 9
        }
      ]
    },
    {
      "cell_type": "code",
      "metadata": {
        "colab": {
          "base_uri": "https://localhost:8080/"
        },
        "id": "G_EdkwoXBdlB",
        "outputId": "eff64a6b-bb1b-46c4-e23d-ed8b25e417c7"
      },
      "source": [
        "D.ndim"
      ],
      "execution_count": null,
      "outputs": [
        {
          "output_type": "execute_result",
          "data": {
            "text/plain": [
              "2"
            ]
          },
          "metadata": {},
          "execution_count": 10
        }
      ]
    },
    {
      "cell_type": "markdown",
      "metadata": {
        "id": "6yLAOJIsBgdH"
      },
      "source": [
        "#### Addition"
      ]
    },
    {
      "cell_type": "markdown",
      "metadata": {
        "id": "nY-BP2XsAJ3H"
      },
      "source": [
        "The addition rule is simple, the we just need to add the elements of the matrices according to their index. So in this case if we add vector $A$ and vector $B$ we will have a resulting vector:"
      ]
    },
    {
      "cell_type": "markdown",
      "metadata": {
        "id": "6eJQWbkHcGsN"
      },
      "source": [
        "$$R = 6\\hat{x}-2\\hat{y} \\\\ \\\\or \\\\ \\\\ R = \\begin{bmatrix} 6 \\\\ -2\\end{bmatrix} $$"
      ]
    },
    {
      "cell_type": "markdown",
      "metadata": {
        "id": "HVYg0p58cIc9"
      },
      "source": [
        "So let's try to do that in NumPy in several number of ways:"
      ]
    },
    {
      "cell_type": "code",
      "metadata": {
        "id": "hxCzGqvBcKo6"
      },
      "source": [
        "R = np.add(A, B) ## this is the functional method usisng the numpy library\n",
        "P = np.add(C, D)\n"
      ],
      "execution_count": null,
      "outputs": []
    },
    {
      "cell_type": "code",
      "metadata": {
        "id": "8V3mGx5hcMXY",
        "colab": {
          "base_uri": "https://localhost:8080/"
        },
        "outputId": "c2439f5e-4ee8-493f-8507-54d4b4f976e7"
      },
      "source": [
        "R = A + B   ## this is the explicit method, since Python does a value-reference so it can \n",
        "            ## know that these variables would need to do array operations.\n",
        "R"
      ],
      "execution_count": null,
      "outputs": [
        {
          "output_type": "execute_result",
          "data": {
            "text/plain": [
              "array([ 6, -2])"
            ]
          },
          "metadata": {},
          "execution_count": 13
        }
      ]
    },
    {
      "cell_type": "code",
      "metadata": {
        "id": "OMnpv7uXcO9J",
        "colab": {
          "base_uri": "https://localhost:8080/"
        },
        "outputId": "71e7487f-3011-4098-b5c2-98eeca228c15"
      },
      "source": [
        "pos1 = np.array([0,0,0])\n",
        "pos2 = np.array([0,1,3])\n",
        "pos3 = np.array([1,5,-2])\n",
        "pos4 = np.array([5,-3,3])\n",
        "#R = pos1 + pos2 + pos3 + pos4\n",
        "#R = np.multiply(pos3, pos4)\n",
        "R = pos3 + pos4\n",
        "R"
      ],
      "execution_count": null,
      "outputs": [
        {
          "output_type": "execute_result",
          "data": {
            "text/plain": [
              "array([6, 2, 1])"
            ]
          },
          "metadata": {},
          "execution_count": 107
        }
      ]
    },
    {
      "cell_type": "markdown",
      "metadata": {
        "id": "MeQsig8Tcluh"
      },
      "source": [
        "Try to implement subtraction, multiplication, and division with vectors $A$ and $B$!"
      ]
    },
    {
      "cell_type": "code",
      "metadata": {
        "colab": {
          "base_uri": "https://localhost:8080/"
        },
        "id": "pBOCvFTmcm53",
        "outputId": "400a99e5-92fd-446c-df05-9902901d1987"
      },
      "source": [
        "pos1 = np.array([1,2,3])\n",
        "pos2 = np.array([3,6,9])\n",
        "pos3 = np.array([1,5,-2])\n",
        "pos4 = np.array([4,-2,1])\n",
        "\n",
        "R = pos1 - pos2\n",
        "R"
      ],
      "execution_count": null,
      "outputs": [
        {
          "output_type": "execute_result",
          "data": {
            "text/plain": [
              "array([-2, -4, -6])"
            ]
          },
          "metadata": {},
          "execution_count": 115
        }
      ]
    },
    {
      "cell_type": "code",
      "metadata": {
        "colab": {
          "base_uri": "https://localhost:8080/"
        },
        "id": "atnOVX1wrLHv",
        "outputId": "ebfcb3a5-4f04-48fe-9308-e13c987ea807"
      },
      "source": [
        "pos1 = np.array([1,2,3])\n",
        "pos2 = np.array([3,6,9])\n",
        "pos3 = np.array([1,5,-2])\n",
        "pos4 = np.array([5,-3,3])\n",
        "\n",
        "R = pos3 * pos4\n",
        "R"
      ],
      "execution_count": null,
      "outputs": [
        {
          "output_type": "execute_result",
          "data": {
            "text/plain": [
              "array([  5, -15,  -6])"
            ]
          },
          "metadata": {},
          "execution_count": 112
        }
      ]
    },
    {
      "cell_type": "code",
      "metadata": {
        "colab": {
          "base_uri": "https://localhost:8080/"
        },
        "id": "GPdWcqDXrOj-",
        "outputId": "caea67be-f6fd-428c-a787-e91b6d404ecd"
      },
      "source": [
        "pos1 = np.array([1,2,3])\n",
        "pos2 = np.array([3,6,9])\n",
        "pos3 = np.array([1,5,-2])\n",
        "pos4 = np.array([5,-3,3])\n",
        "\n",
        "R = pos1 / pos2\n",
        "R"
      ],
      "execution_count": null,
      "outputs": [
        {
          "output_type": "execute_result",
          "data": {
            "text/plain": [
              "array([0.33333333, 0.33333333, 0.33333333])"
            ]
          },
          "metadata": {},
          "execution_count": 113
        }
      ]
    },
    {
      "cell_type": "markdown",
      "metadata": {
        "id": "ZSluTVpDcqkB"
      },
      "source": [
        "### Scaling"
      ]
    },
    {
      "cell_type": "markdown",
      "metadata": {
        "id": "yaA62MeRcsv0"
      },
      "source": [
        "Scaling or scalar multiplication takes a scalar value and performs multiplication with a vector. Let's take the example below:"
      ]
    },
    {
      "cell_type": "markdown",
      "metadata": {
        "id": "86Hj4ys4ctSd"
      },
      "source": [
        "$$S = 5 \\cdot A$$"
      ]
    },
    {
      "cell_type": "markdown",
      "metadata": {
        "id": "i47-Hmnhcxoc"
      },
      "source": [
        "We can do this in numpy through:"
      ]
    },
    {
      "cell_type": "code",
      "metadata": {
        "colab": {
          "base_uri": "https://localhost:8080/"
        },
        "id": "3BAOU29UdFtN",
        "outputId": "a5f914ff-839c-4f86-c802-1c18593be067"
      },
      "source": [
        "#S = 5 * A\n",
        "S = np.multiply(5,A)\n",
        "S"
      ],
      "execution_count": null,
      "outputs": [
        {
          "output_type": "execute_result",
          "data": {
            "text/plain": [
              "array([20, 15])"
            ]
          },
          "metadata": {},
          "execution_count": 11
        }
      ]
    },
    {
      "cell_type": "markdown",
      "metadata": {
        "id": "sZoZN8-xdKQ2"
      },
      "source": [
        "Try to implement scaling with two vectors."
      ]
    },
    {
      "cell_type": "code",
      "metadata": {
        "id": "71qQ0A6usmHy"
      },
      "source": [
        "S = np.multiply(6,A)\n",
        "H = np.multiply(2,B)\n",
        "P = S*H\n",
        "P"
      ],
      "execution_count": null,
      "outputs": []
    },
    {
      "cell_type": "markdown",
      "metadata": {
        "id": "vFNnCG6-dPkP"
      },
      "source": [
        "### MatPlotLib"
      ]
    },
    {
      "cell_type": "markdown",
      "metadata": {
        "id": "7M_RNpZddQbj"
      },
      "source": [
        "MatPlotLib or MATLab Plotting library is Python's take on MATLabs plotting feature. MatPlotLib can be used vastly from graping values to visualizing several dimensions of data."
      ]
    },
    {
      "cell_type": "markdown",
      "metadata": {
        "id": "9xMWC0gxd7e1"
      },
      "source": [
        "It's not enough just solving these vectors so might need to visualize them. So we'll use MatPlotLib for that. We'll need to import it first."
      ]
    },
    {
      "cell_type": "code",
      "metadata": {
        "id": "rzBpjxFyeB32"
      },
      "source": [
        "import matplotlib.pyplot as plt\n",
        "import matplotlib\n",
        "%matplotlib inline"
      ],
      "execution_count": 2,
      "outputs": []
    },
    {
      "cell_type": "code",
      "metadata": {
        "colab": {
          "base_uri": "https://localhost:8080/",
          "height": 265
        },
        "id": "he3_4Ja7eCLH",
        "outputId": "7d775f9e-39be-49c5-d8ae-437e1a3063d0"
      },
      "source": [
        "A = [1, -1]\n",
        "B = [5, -1]\n",
        "plt.scatter(A[0], A[1], label='A', c='green')\n",
        "plt.scatter(B[0], B[1], label='B', c='magenta')\n",
        "plt.grid()\n",
        "plt.legend()\n",
        "plt.show()"
      ],
      "execution_count": null,
      "outputs": [
        {
          "output_type": "display_data",
          "data": {
            "image/png": "[encoded data removed]",
            "text/plain": [
              "<Figure size 432x288 with 1 Axes>"
            ]
          },
          "metadata": {
            "needs_background": "light"
          }
        }
      ]
    },
    {
      "cell_type": "code",
      "metadata": {
        "colab": {
          "base_uri": "https://localhost:8080/",
          "height": 333
        },
        "id": "8Ke8ot14gouw",
        "outputId": "b937892b-1a0e-4606-88c3-5d0bfd565bbb"
      },
      "source": [
        "A = np.array([1, -1])\n",
        "B = np.array([1, 5])\n",
        "\n",
        "plt.xlim(-5, 5)\n",
        "plt.ylim(-5, 5)\n",
        "plt.quiver(0, 0, A[0], A[1], angles='xy', scale_units='xy', scale=1, color='red')\n",
        "plt.quiver(A[0], A[1], B[0], B[1], angles='xy', scale_units='xy', scale=1, color='green')\n",
        "R = A + B\n",
        "plt.quiver(0, 0, R[0], R[1], angles='xy', scale_units='xy', scale=1, color='black')\n",
        "plt.grid()\n",
        "plt.show()\n",
        "print(R)\n",
        "Magnitude = np.sqrt(np.sum(R**2))\n",
        "print(Magnitude)\n",
        "Slope = R[1]/R[0]\n",
        "print(Slope)\n",
        "Angle = (np.arctan(Slope))*(180/np.pi)\n",
        "print(Angle)"
      ],
      "execution_count": null,
      "outputs": [
        {
          "output_type": "display_data",
          "data": {
            "image/png": "[encoded data removed]",
            "text/plain": [
              "<Figure size 432x288 with 1 Axes>"
            ]
          },
          "metadata": {
            "needs_background": "light"
          }
        },
        {
          "output_type": "stream",
          "name": "stdout",
          "text": [
            "[2 4]\n",
            "4.47213595499958\n",
            "2.0\n",
            "63.43494882292201\n"
          ]
        }
      ]
    },
    {
      "cell_type": "code",
      "metadata": {
        "colab": {
          "base_uri": "https://localhost:8080/",
          "height": 269
        },
        "id": "HYtF8A3YhAM2",
        "outputId": "1472eed3-f811-463f-84d6-b68ecddeefa5"
      },
      "source": [
        "n = A.shape[0]\n",
        "plt.xlim(-10, 10)\n",
        "plt.ylim(-10, 10)\n",
        "plt.quiver(0,0, A[0], A[1], angles='xy', scale_units='xy',scale=1)\n",
        "plt.quiver(A[0],A[1], B[0], B[1], angles='xy', scale_units='xy',scale=1)\n",
        "plt.quiver(0,0, R[0], R[1], angles='xy', scale_units='xy',scale=1)\n",
        "plt.show()"
      ],
      "execution_count": null,
      "outputs": [
        {
          "output_type": "display_data",
          "data": {
            "image/png": "[encoded data removed]",
            "text/plain": [
              "<Figure size 432x288 with 1 Axes>"
            ]
          },
          "metadata": {
            "needs_background": "light"
          }
        }
      ]
    },
    {
      "cell_type": "markdown",
      "metadata": {
        "id": "7DBF64A2hhs2"
      },
      "source": [
        "Try plotting Three Vectors and show the Resultant Vector as a result. **Use Head to Tail Method**.\n",
        "\n"
      ]
    },
    {
      "cell_type": "code",
      "metadata": {
        "colab": {
          "base_uri": "https://localhost:8080/",
          "height": 364
        },
        "id": "a0cB0eIgjOl9",
        "outputId": "ee9274ea-0ca4-4b63-a602-33e021d650d0"
      },
      "source": [
        "A = np.array([0, 4])\n",
        "B = np.array([2, 1])\n",
        "C = np.array([3, 2])\n",
        "plt.title(\"Resultant Vector\\nMagnitude:{}\")\n",
        "plt.xlim(-10, 15)\n",
        "plt.ylim(-10, 15)\n",
        "plt.quiver(0, 0, A[0], A[1], angles='xy', scale_units='xy', scale=1, color='cyan')\n",
        "plt.quiver(A[0], A[1], B[0], B[1], angles='xy', scale_units='xy', scale=1, color='pink')\n",
        "plt.quiver(2, 5, C[0], C[1], angles='xy', scale_units='xy', scale=1, color='violet')\n",
        "R = A + B + C\n",
        "plt.quiver(0, 0, R[0], R[1], angles='xy', scale_units='xy', scale=1, color='green')\n",
        "plt.grid()\n",
        "plt.show()\n",
        "print(R)\n",
        "Magnitude = np.sqrt(np.sum(R**2))\n",
        "print(Magnitude)\n",
        "Slope = R[1]/R[0]\n",
        "print(Slope)\n",
        "Angle = (np.arctan(Slope))*(180/np.pi)\n",
        "print(Angle)"
      ],
      "execution_count": 33,
      "outputs": [
        {
          "output_type": "display_data",
          "data": {
            "image/png": "[encoded data removed]",
            "text/plain": [
              "<Figure size 432x288 with 1 Axes>"
            ]
          },
          "metadata": {
            "needs_background": "light"
          }
        },
        {
          "output_type": "stream",
          "name": "stdout",
          "text": [
            "[5 7]\n",
            "8.602325267042627\n",
            "1.4\n",
            "54.46232220802562\n"
          ]
        }
      ]
    },
    {
      "cell_type": "markdown",
      "metadata": {
        "id": "JpbQdXsUncXN"
      },
      "source": [
        "![image.png](data:image/png;base64,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)"
      ]
    },
    {
      "cell_type": "code",
      "metadata": {
        "id": "N1LbcKH1oabr"
      },
      "source": [
        ""
      ],
      "execution_count": null,
      "outputs": []
    }
  ]
}