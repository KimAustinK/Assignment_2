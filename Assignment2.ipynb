{
  "nbformat": 4,
  "nbformat_minor": 0,
  "metadata": {
    "colab": {
      "name": "Assignment2.ipynb",
      "provenance": [],
      "collapsed_sections": [
        "zWVwTLN--Rfo",
        "hblq3Pi__2H1"
      ],
      "authorship_tag": "ABX9TyO5X7H/FtORRKCE5nrVbviW",
      "include_colab_link": true
    },
    "kernelspec": {
      "name": "python3",
      "display_name": "Python 3"
    },
    "language_info": {
      "name": "python"
    }
  },
  "cells": [
    {
      "cell_type": "markdown",
      "metadata": {
        "id": "view-in-github",
        "colab_type": "text"
      },
      "source": [
        "<a href=\"https://colab.research.google.com/github/KimAustinK/Assignment_2/blob/main/Assignment2.ipynb\" target=\"_parent\"><img src=\"https://colab.research.google.com/assets/colab-badge.svg\" alt=\"Open In Colab\"/></a>"
      ]
    },
    {
      "cell_type": "markdown",
      "metadata": {
        "id": "9t8xtJLvolHT"
      },
      "source": [
        "![image](https://upload.wikimedia.org/wikipedia/commons/f/f8/Python_logo_and_wordmark.svg)"
      ]
    },
    {
      "cell_type": "markdown",
      "metadata": {
        "id": "6DK89rqY1lda"
      },
      "source": [
        "# Welcome to Python Fundamentals\n",
        "In this module, we are going to establish our skills  in Phython programming. In this notebook we are going to cover:\n",
        "\n",
        "* Variables and Data Types\n",
        "* Operations\n",
        "* Input and Output Operations\n",
        "* Logic Control\n",
        "* Interables\n",
        "* Functions\n",
        "\n",
        "\n",
        "\n",
        "\n"
      ]
    },
    {
      "cell_type": "markdown",
      "metadata": {
        "id": "_ZN86jQ5py_O"
      },
      "source": [
        "![image](http://d1jnx9ba8s6j9r.cloudfront.net/blog/wp-content/uploads/2019/05/Variables-and-data-types-in-python.jpg)"
      ]
    },
    {
      "cell_type": "markdown",
      "metadata": {
        "id": "vDTOgD9k2qUd"
      },
      "source": [
        "## **Variables and Data Types**\n",
        "\n",
        "### As a basis of understanding this both, ***Variables*** pertains to storage where the values set aside and as well the main reason python language functions properly. On the other hand, ***Data types*** are the one classifying data like int, float, bool and etc. [1][2]\n",
        "\n",
        "\n",
        "\n",
        "\n",
        "\n",
        "\n",
        "\n"
      ]
    },
    {
      "cell_type": "code",
      "metadata": {
        "id": "_Ronlfae3oku",
        "colab": {
          "base_uri": "https://localhost:8080/",
          "height": 0
        },
        "outputId": "b6063011-4fbe-43ae-9995-06e2da9f7d6d"
      },
      "source": [
        "y = 3.0\n",
        "type(y)"
      ],
      "execution_count": 12,
      "outputs": [
        {
          "output_type": "execute_result",
          "data": {
            "text/plain": [
              "float"
            ]
          },
          "metadata": {},
          "execution_count": 12
        }
      ]
    },
    {
      "cell_type": "code",
      "metadata": {
        "id": "29J7Tqiq3i3U"
      },
      "source": [
        "type(x)"
      ],
      "execution_count": null,
      "outputs": []
    },
    {
      "cell_type": "code",
      "metadata": {
        "id": "BLRcAbic3JY9"
      },
      "source": [
        "x = 1\n",
        "a, b = 3, -2"
      ],
      "execution_count": 13,
      "outputs": []
    },
    {
      "cell_type": "code",
      "metadata": {
        "id": "iPQfet4Y37Be"
      },
      "source": [
        "x = float(x)\n",
        "type(x)\n",
        "x"
      ],
      "execution_count": null,
      "outputs": []
    },
    {
      "cell_type": "code",
      "metadata": {
        "id": "cu_xSiXy4MK4",
        "colab": {
          "base_uri": "https://localhost:8080/",
          "height": 0
        },
        "outputId": "813c2c7e-e0b7-45fc-b19c-5a61d6def70f"
      },
      "source": [
        "s, t , u = \"1\", '3', 'three'\n",
        "type(u)"
      ],
      "execution_count": 14,
      "outputs": [
        {
          "output_type": "execute_result",
          "data": {
            "text/plain": [
              "str"
            ]
          },
          "metadata": {},
          "execution_count": 14
        }
      ]
    },
    {
      "cell_type": "markdown",
      "metadata": {
        "id": "XkAhibW2rI0q"
      },
      "source": [
        "![image](http://d1jnx9ba8s6j9r.cloudfront.net/blog/wp-content/uploads/2019/04/Operators-in-Python1.png)"
      ]
    },
    {
      "cell_type": "markdown",
      "metadata": {
        "id": "8_KT79ZW4oMe"
      },
      "source": [
        "## **Operations**\n",
        "\n",
        "### These are the symbols which implements operators to execute the given program.[3]\n",
        "\n",
        "\n"
      ]
    },
    {
      "cell_type": "markdown",
      "metadata": {
        "id": "oYUZd9lS4ucR"
      },
      "source": [
        "### **Arithmetic**\n",
        "\n",
        "###In Python operations by all means, ***Arithmetic*** uses math expressions and symbols to operate the program. [4]"
      ]
    },
    {
      "cell_type": "code",
      "metadata": {
        "id": "_vGBJYqS408U"
      },
      "source": [
        "w, x, y, z = 4.0, -3.0, 2, -32"
      ],
      "execution_count": 39,
      "outputs": []
    },
    {
      "cell_type": "code",
      "metadata": {
        "id": "ttgWM_NU5Imn",
        "colab": {
          "base_uri": "https://localhost:8080/",
          "height": 0
        },
        "outputId": "9bdf143b-aab9-47d2-d95f-f2039fb70856"
      },
      "source": [
        "### Addition\n",
        "S = w + x\n",
        "S"
      ],
      "execution_count": 40,
      "outputs": [
        {
          "output_type": "execute_result",
          "data": {
            "text/plain": [
              "1.0"
            ]
          },
          "metadata": {},
          "execution_count": 40
        }
      ]
    },
    {
      "cell_type": "code",
      "metadata": {
        "id": "tE1he05B5e4a",
        "colab": {
          "base_uri": "https://localhost:8080/",
          "height": 0
        },
        "outputId": "a1628348-0a74-4282-e1d5-af85b3fa6e15"
      },
      "source": [
        "### Subrtraction\n",
        "D = y - z\n",
        "D"
      ],
      "execution_count": 41,
      "outputs": [
        {
          "output_type": "execute_result",
          "data": {
            "text/plain": [
              "34"
            ]
          },
          "metadata": {},
          "execution_count": 41
        }
      ]
    },
    {
      "cell_type": "code",
      "metadata": {
        "id": "R_3MV_EM5lfl",
        "colab": {
          "base_uri": "https://localhost:8080/",
          "height": 0
        },
        "outputId": "ebeb3dd3-6c8b-4584-eb62-4e157dd8934d"
      },
      "source": [
        "### Multiplicaton\n",
        "P = w * z\n",
        "P\n"
      ],
      "execution_count": 42,
      "outputs": [
        {
          "output_type": "execute_result",
          "data": {
            "text/plain": [
              "-128.0"
            ]
          },
          "metadata": {},
          "execution_count": 42
        }
      ]
    },
    {
      "cell_type": "code",
      "metadata": {
        "id": "f4MA-2oR5v3S",
        "colab": {
          "base_uri": "https://localhost:8080/",
          "height": 0
        },
        "outputId": "71f26364-8c74-42d5-bada-10356446c3b1"
      },
      "source": [
        "### Division\n",
        "Q = y / x\n",
        "Q"
      ],
      "execution_count": 43,
      "outputs": [
        {
          "output_type": "execute_result",
          "data": {
            "text/plain": [
              "-0.6666666666666666"
            ]
          },
          "metadata": {},
          "execution_count": 43
        }
      ]
    },
    {
      "cell_type": "code",
      "metadata": {
        "id": "3iqNxUWl6U4N",
        "colab": {
          "base_uri": "https://localhost:8080/",
          "height": 0
        },
        "outputId": "06fb1db0-0456-45e7-d542-713015cc41e2"
      },
      "source": [
        "### Floor Divison\n",
        "Qf = w//z\n",
        "Qf"
      ],
      "execution_count": 44,
      "outputs": [
        {
          "output_type": "execute_result",
          "data": {
            "text/plain": [
              "-1.0"
            ]
          },
          "metadata": {},
          "execution_count": 44
        }
      ]
    },
    {
      "cell_type": "code",
      "metadata": {
        "colab": {
          "base_uri": "https://localhost:8080/",
          "height": 0
        },
        "id": "10_hwZVk7CDW",
        "outputId": "2a8d07cc-20b8-466f-c2c2-7b61ef1e6b2c"
      },
      "source": [
        "### Exponent\n",
        "E = w**w\n",
        "E"
      ],
      "execution_count": 45,
      "outputs": [
        {
          "output_type": "execute_result",
          "data": {
            "text/plain": [
              "256.0"
            ]
          },
          "metadata": {},
          "execution_count": 45
        }
      ]
    },
    {
      "cell_type": "code",
      "metadata": {
        "colab": {
          "base_uri": "https://localhost:8080/",
          "height": 0
        },
        "id": "iR-TEWUs7XTh",
        "outputId": "231e9073-23ac-4fca-f484-7d8ef77352db"
      },
      "source": [
        "### Modulo\n",
        "mod = z%x\n",
        "mod"
      ],
      "execution_count": 46,
      "outputs": [
        {
          "output_type": "execute_result",
          "data": {
            "text/plain": [
              "-2.0"
            ]
          },
          "metadata": {},
          "execution_count": 46
        }
      ]
    },
    {
      "cell_type": "markdown",
      "metadata": {
        "id": "Cc9Eu4NT70yn"
      },
      "source": [
        "##**Assignment**\n",
        "\n",
        "### This is the type of operator which uses values to assign in the given variable. [3]"
      ]
    },
    {
      "cell_type": "code",
      "metadata": {
        "id": "3vdZmwYM8UFX"
      },
      "source": [
        "A, B, C, D, E = 0, 100, 2, 1, 2\n"
      ],
      "execution_count": 47,
      "outputs": []
    },
    {
      "cell_type": "code",
      "metadata": {
        "id": "1pmrToaC8YaK",
        "colab": {
          "base_uri": "https://localhost:8080/",
          "height": 0
        },
        "outputId": "715c10b8-c965-43c9-9a1e-944d169f245f"
      },
      "source": [
        "A += w\n",
        "A"
      ],
      "execution_count": 52,
      "outputs": [
        {
          "output_type": "execute_result",
          "data": {
            "text/plain": [
              "4.0"
            ]
          },
          "metadata": {},
          "execution_count": 52
        }
      ]
    },
    {
      "cell_type": "code",
      "metadata": {
        "id": "sg8R4FzT8xrn",
        "colab": {
          "base_uri": "https://localhost:8080/",
          "height": 0
        },
        "outputId": "3eaac4a3-fbef-4379-ffd5-9adf08f24c45"
      },
      "source": [
        "B -= x\n",
        "B"
      ],
      "execution_count": 48,
      "outputs": [
        {
          "output_type": "execute_result",
          "data": {
            "text/plain": [
              "103.0"
            ]
          },
          "metadata": {},
          "execution_count": 48
        }
      ]
    },
    {
      "cell_type": "code",
      "metadata": {
        "id": "sfmvRNT_9BW2",
        "colab": {
          "base_uri": "https://localhost:8080/",
          "height": 0
        },
        "outputId": "3092d610-e904-4b92-842f-d0e2915732b9"
      },
      "source": [
        "C *= w\n",
        "C"
      ],
      "execution_count": 50,
      "outputs": [
        {
          "output_type": "execute_result",
          "data": {
            "text/plain": [
              "8.0"
            ]
          },
          "metadata": {},
          "execution_count": 50
        }
      ]
    },
    {
      "cell_type": "code",
      "metadata": {
        "id": "ta4mGn7I9VCJ",
        "colab": {
          "base_uri": "https://localhost:8080/",
          "height": 0
        },
        "outputId": "79ae0834-b558-4265-a2c1-e0ef5bfa3fa5"
      },
      "source": [
        "D /= x\n",
        "D"
      ],
      "execution_count": 49,
      "outputs": [
        {
          "output_type": "execute_result",
          "data": {
            "text/plain": [
              "-0.3333333333333333"
            ]
          },
          "metadata": {},
          "execution_count": 49
        }
      ]
    },
    {
      "cell_type": "code",
      "metadata": {
        "id": "UYRWJlC49eoF",
        "colab": {
          "base_uri": "https://localhost:8080/",
          "height": 0
        },
        "outputId": "1ac32642-553a-4bbf-ae15-ab717ad879d8"
      },
      "source": [
        "E **= y\n",
        "E"
      ],
      "execution_count": 51,
      "outputs": [
        {
          "output_type": "execute_result",
          "data": {
            "text/plain": [
              "4"
            ]
          },
          "metadata": {},
          "execution_count": 51
        }
      ]
    },
    {
      "cell_type": "markdown",
      "metadata": {
        "id": "zWVwTLN--Rfo"
      },
      "source": [
        "## **Comparators**\n",
        "\n",
        "### Summarizing the definition, Comparators defines two values using operators specifically boolean whether it is true or false, to determine if the values is the same or not. [5]\n",
        "\n"
      ]
    },
    {
      "cell_type": "code",
      "metadata": {
        "id": "l5yNgHDW-UXC"
      },
      "source": [
        "size_1, size_2, size_3 = 1, 2.0, \"1\"\n",
        "true_size = 1.0"
      ],
      "execution_count": 53,
      "outputs": []
    },
    {
      "cell_type": "code",
      "metadata": {
        "id": "I75fPeqg-geI",
        "colab": {
          "base_uri": "https://localhost:8080/",
          "height": 0
        },
        "outputId": "9aa436d9-dab9-49ab-c36c-55c544d2d670"
      },
      "source": [
        "##Equality\n",
        "size_1 == true_size"
      ],
      "execution_count": 54,
      "outputs": [
        {
          "output_type": "execute_result",
          "data": {
            "text/plain": [
              "True"
            ]
          },
          "metadata": {},
          "execution_count": 54
        }
      ]
    },
    {
      "cell_type": "code",
      "metadata": {
        "colab": {
          "base_uri": "https://localhost:8080/",
          "height": 0
        },
        "id": "IorwSrJd-2LS",
        "outputId": "d68dcb2b-6618-4140-d244-0deb159a2c13"
      },
      "source": [
        "## Non-Equality\n",
        "size_2 != true_size"
      ],
      "execution_count": 3,
      "outputs": [
        {
          "output_type": "execute_result",
          "data": {
            "text/plain": [
              "True"
            ]
          },
          "metadata": {},
          "execution_count": 3
        }
      ]
    },
    {
      "cell_type": "code",
      "metadata": {
        "id": "N8A-hD3y_C3p",
        "colab": {
          "base_uri": "https://localhost:8080/",
          "height": 0
        },
        "outputId": "ec547d5d-3b0d-4f4c-f03d-59fb4fccb7e3"
      },
      "source": [
        "## Inequality\n",
        "s1 = size_1 > size_2\n",
        "s2 = size_1 < size_2/2\n",
        "s3 = true_size >= size_1\n",
        "s4 = size_2 <= true_size\n",
        "s4"
      ],
      "execution_count": 4,
      "outputs": [
        {
          "output_type": "execute_result",
          "data": {
            "text/plain": [
              "False"
            ]
          },
          "metadata": {},
          "execution_count": 4
        }
      ]
    },
    {
      "cell_type": "markdown",
      "metadata": {
        "id": "hblq3Pi__2H1"
      },
      "source": [
        "###**Logical**\n",
        "\n",
        "### This is also an example of a statement which comes up with a true or false situation, wherein if the program has false it will type false, therefore if its true it will type true."
      ]
    },
    {
      "cell_type": "code",
      "metadata": {
        "id": "gZlhZNyP_6Ql",
        "colab": {
          "base_uri": "https://localhost:8080/",
          "height": 0
        },
        "outputId": "dd3c8408-4298-438d-c435-a3e9a3a871cf"
      },
      "source": [
        "size_1 == true_size\n",
        "size_1"
      ],
      "execution_count": 55,
      "outputs": [
        {
          "output_type": "execute_result",
          "data": {
            "text/plain": [
              "1"
            ]
          },
          "metadata": {},
          "execution_count": 55
        }
      ]
    },
    {
      "cell_type": "code",
      "metadata": {
        "id": "A4YdoXyLAGbM",
        "colab": {
          "base_uri": "https://localhost:8080/",
          "height": 0
        },
        "outputId": "3773b7ff-6ed2-40f5-cca1-954ef9d21629"
      },
      "source": [
        "size_1 is true_size"
      ],
      "execution_count": 56,
      "outputs": [
        {
          "output_type": "execute_result",
          "data": {
            "text/plain": [
              "False"
            ]
          },
          "metadata": {},
          "execution_count": 56
        }
      ]
    },
    {
      "cell_type": "code",
      "metadata": {
        "id": "T1KPhkqlAZid",
        "colab": {
          "base_uri": "https://localhost:8080/",
          "height": 0
        },
        "outputId": "05b015a6-b652-443b-a5c5-cbaf2b261557"
      },
      "source": [
        "size_1 is not true_size"
      ],
      "execution_count": 7,
      "outputs": [
        {
          "output_type": "execute_result",
          "data": {
            "text/plain": [
              "True"
            ]
          },
          "metadata": {},
          "execution_count": 7
        }
      ]
    },
    {
      "cell_type": "code",
      "metadata": {
        "id": "JIkIr9UoAhSI",
        "colab": {
          "base_uri": "https://localhost:8080/",
          "height": 0
        },
        "outputId": "741ac696-4fdc-4a0c-b501-65bd956cedd3"
      },
      "source": [
        "P, Q = True, False\n",
        "conj = P and Q\n",
        "conj"
      ],
      "execution_count": 8,
      "outputs": [
        {
          "output_type": "execute_result",
          "data": {
            "text/plain": [
              "False"
            ]
          },
          "metadata": {},
          "execution_count": 8
        }
      ]
    },
    {
      "cell_type": "code",
      "metadata": {
        "colab": {
          "base_uri": "https://localhost:8080/",
          "height": 0
        },
        "id": "-nZAd7WxA9IP",
        "outputId": "e3895709-5bd5-4ffa-f166-f500efe78a37"
      },
      "source": [
        "disj = P or Q\n",
        "disj"
      ],
      "execution_count": 9,
      "outputs": [
        {
          "output_type": "execute_result",
          "data": {
            "text/plain": [
              "True"
            ]
          },
          "metadata": {},
          "execution_count": 9
        }
      ]
    },
    {
      "cell_type": "code",
      "metadata": {
        "id": "aWAdLKhIBIHs",
        "colab": {
          "base_uri": "https://localhost:8080/",
          "height": 0
        },
        "outputId": "33e10165-2d11-4fbf-8326-31be67fe3af2"
      },
      "source": [
        "nand = not(P and Q)\n",
        "nand"
      ],
      "execution_count": 10,
      "outputs": [
        {
          "output_type": "execute_result",
          "data": {
            "text/plain": [
              "True"
            ]
          },
          "metadata": {},
          "execution_count": 10
        }
      ]
    },
    {
      "cell_type": "code",
      "metadata": {
        "colab": {
          "base_uri": "https://localhost:8080/",
          "height": 0
        },
        "id": "QWnY_7xmBfTh",
        "outputId": "e0332d80-5fc7-4330-8bc3-3fb337faed29"
      },
      "source": [
        "xor = (not P and Q) or (P and not Q)\n",
        "xor"
      ],
      "execution_count": 11,
      "outputs": [
        {
          "output_type": "execute_result",
          "data": {
            "text/plain": [
              "True"
            ]
          },
          "metadata": {},
          "execution_count": 11
        }
      ]
    },
    {
      "cell_type": "markdown",
      "metadata": {
        "id": "Lg_KhXxpBxXq"
      },
      "source": [
        "## **Input and Output**\n",
        "\n",
        "#### In the student understanding, Output uses print() as the statement to commence the program. On the other hand, Input operator is the body of the program which code will occur. [3]"
      ]
    },
    {
      "cell_type": "code",
      "metadata": {
        "id": "6cyw2d3FB1hk",
        "colab": {
          "base_uri": "https://localhost:8080/",
          "height": 0
        },
        "outputId": "70e9fccb-7b06-4226-a1a4-ad89329427f6"
      },
      "source": [
        "print(\"Hello World!\")"
      ],
      "execution_count": 57,
      "outputs": [
        {
          "output_type": "stream",
          "name": "stdout",
          "text": [
            "Hello World!\n"
          ]
        }
      ]
    },
    {
      "cell_type": "code",
      "metadata": {
        "id": "k85PYbK1CEMc"
      },
      "source": [
        "cnt = 14000"
      ],
      "execution_count": 58,
      "outputs": []
    },
    {
      "cell_type": "code",
      "metadata": {
        "id": "bduDOarrCHR9",
        "colab": {
          "base_uri": "https://localhost:8080/",
          "height": 0
        },
        "outputId": "610eba21-6287-4f2d-dd39-aedf41e31d9b"
      },
      "source": [
        "string = \"Hello World!\"\n",
        "print(string, \", Current COVID count is:\", cnt)\n",
        "cnt += 10000"
      ],
      "execution_count": 59,
      "outputs": [
        {
          "output_type": "stream",
          "name": "stdout",
          "text": [
            "Hello World! , Current COVID count is: 14000\n"
          ]
        }
      ]
    },
    {
      "cell_type": "code",
      "metadata": {
        "id": "hERM1nJaC54B"
      },
      "source": [
        "print(f\"{string}, current count is: {cnt}\")"
      ],
      "execution_count": null,
      "outputs": []
    },
    {
      "cell_type": "code",
      "metadata": {
        "id": "LO-TySEmDwm0",
        "colab": {
          "base_uri": "https://localhost:8080/",
          "height": 0
        },
        "outputId": "7dcf5611-7582-4956-cb95-a6e6356ddd17"
      },
      "source": [
        "sem_grade = 86.25\n",
        "name = \"Kim\"\n",
        "print(\"hello {}, your semestral grade is: {}\".format(name, sem_grade))"
      ],
      "execution_count": 60,
      "outputs": [
        {
          "output_type": "stream",
          "name": "stdout",
          "text": [
            "hello Kim, your semestral grade is: 86.25\n"
          ]
        }
      ]
    },
    {
      "cell_type": "code",
      "metadata": {
        "id": "qj7Psa1RDJJv",
        "colab": {
          "base_uri": "https://localhost:8080/",
          "height": 0
        },
        "outputId": "b7dee7d8-c5cc-44be-aa01-e3145e9f0312"
      },
      "source": [
        "pg , mg, fg = 98, 85, 65\n",
        "print(\"The weights of your semestral grades are:\\\n",
        "\\n\\t {} for Prelims\\\n",
        "\\n\\t {} for Midterms, and\\\n",
        "\\n\\t {} for Finals.\".format(pg, mg, fg))"
      ],
      "execution_count": 61,
      "outputs": [
        {
          "output_type": "stream",
          "name": "stdout",
          "text": [
            "The weights of your semestral grades are:\n",
            "\t 98 for Prelims\n",
            "\t 85 for Midterms, and\n",
            "\t 65 for Finals.\n"
          ]
        }
      ]
    },
    {
      "cell_type": "code",
      "metadata": {
        "id": "kNGUKFmnFV9o",
        "colab": {
          "base_uri": "https://localhost:8080/",
          "height": 0
        },
        "outputId": "eba43f93-5869-4979-b8fd-8f95e11159b5"
      },
      "source": [
        "pg , mg, fg = 0.3, 0.4, 0.5\n",
        "print(\"The weights of your semestral grades are:\\\n",
        "\\n\\t {:.2%} for Prelims\\\n",
        "\\n\\t {:.2%} for Midterms, and\\\n",
        "\\n\\t {:.2%} for Finals.\".format(pg, mg, fg))"
      ],
      "execution_count": 62,
      "outputs": [
        {
          "output_type": "stream",
          "name": "stdout",
          "text": [
            "The weights of your semestral grades are:\n",
            "\t 30.00% for Prelims\n",
            "\t 40.00% for Midterms, and\n",
            "\t 50.00% for Finals.\n"
          ]
        }
      ]
    },
    {
      "cell_type": "code",
      "metadata": {
        "id": "m4KOTdu7FeH0",
        "colab": {
          "base_uri": "https://localhost:8080/",
          "height": 52
        },
        "outputId": "2b688db7-ef0d-4b28-8a67-3816cf43d07e"
      },
      "source": [
        "e = input(\"Enter a number: \")\n",
        "e"
      ],
      "execution_count": 63,
      "outputs": [
        {
          "name": "stdout",
          "output_type": "stream",
          "text": [
            "Enter a number: Kim\n"
          ]
        },
        {
          "output_type": "execute_result",
          "data": {
            "application/vnd.google.colaboratory.intrinsic+json": {
              "type": "string"
            },
            "text/plain": [
              "'Kim'"
            ]
          },
          "metadata": {},
          "execution_count": 63
        }
      ]
    },
    {
      "cell_type": "code",
      "metadata": {
        "id": "ecuSFMD9Fz59",
        "colab": {
          "base_uri": "https://localhost:8080/",
          "height": 0
        },
        "outputId": "1f0a33f5-4981-4446-ab3d-fb1ee5865ed5"
      },
      "source": [
        "name = input(\"Enter your name: \")\n",
        "pg = input(\"Enter prelim grade: \")\n",
        "mg = input(\"Enter midterm grade: \")\n",
        "fg = input(\"Enter final grade: \")\n",
        "sem_grade = None\n",
        "print(\"Hello {}, your semestral grade is: {}\".format(name, sem_grade))\n"
      ],
      "execution_count": 64,
      "outputs": [
        {
          "output_type": "stream",
          "name": "stdout",
          "text": [
            "Enter your name: Kim\n",
            "Enter prelim grade: 8.5\n",
            "Enter midterm grade: 9.5\n",
            "Enter final grade: 100\n",
            "Hello Kim, your semestral grade is: None\n"
          ]
        }
      ]
    },
    {
      "cell_type": "markdown",
      "metadata": {
        "id": "7G_NFnPDtNPS"
      },
      "source": [
        "![image](https://miro.medium.com/max/640/1*6xRN6XXIKVKhH7qZfKnidQ.png)"
      ]
    },
    {
      "cell_type": "markdown",
      "metadata": {
        "id": "INVKip3WLM7_"
      },
      "source": [
        "## **Looping Statements**\n",
        "\n",
        "#### This is the kind of statement which is usually used in creating a program with a function that can repeat itself multiple times. [6]"
      ]
    },
    {
      "cell_type": "markdown",
      "metadata": {
        "id": "kZjBfNHnLTtD"
      },
      "source": [
        "## **While Loop**\n",
        "\n",
        "#### This statement is to function and execute programs and comparing codes repeatedly  as long as the statement is correct and it depends on what kind of program will the user do. [7]"
      ]
    },
    {
      "cell_type": "code",
      "metadata": {
        "id": "E8SB3USMLVfb",
        "colab": {
          "base_uri": "https://localhost:8080/",
          "height": 0
        },
        "outputId": "6db5ddfd-0326-4b9b-99dd-6a5ff8bac865"
      },
      "source": [
        "## while loops\n",
        "i, j = 0, 10\n",
        "while(i <= j):\n",
        "  print(f\"{i}\\t|\\t{j}\")\n",
        "  i += 1\n",
        " "
      ],
      "execution_count": 65,
      "outputs": [
        {
          "output_type": "stream",
          "name": "stdout",
          "text": [
            "0\t|\t10\n",
            "1\t|\t10\n",
            "2\t|\t10\n",
            "3\t|\t10\n",
            "4\t|\t10\n",
            "5\t|\t10\n",
            "6\t|\t10\n",
            "7\t|\t10\n",
            "8\t|\t10\n",
            "9\t|\t10\n",
            "10\t|\t10\n"
          ]
        }
      ]
    },
    {
      "cell_type": "markdown",
      "metadata": {
        "id": "KxRhSKEhL7Gv"
      },
      "source": [
        "## **For Loop**\n",
        "\n",
        "#### This is the most common statement to used in looping, the main goal of this example of loop is to compare whether the program is in true or false, thus if false the statement will stop. [6]"
      ]
    },
    {
      "cell_type": "code",
      "metadata": {
        "id": "edTyAUjvL9GR",
        "colab": {
          "base_uri": "https://localhost:8080/",
          "height": 0
        },
        "outputId": "27eee8b0-c717-4440-8ee9-d84f85d8beea"
      },
      "source": [
        "# for (int = 0; i<10; 1++){\n",
        "# printf(i)\n",
        "# }\n",
        "\n",
        "i = 0\n",
        "for i in range(11):\n",
        "  print(i)"
      ],
      "execution_count": 66,
      "outputs": [
        {
          "output_type": "stream",
          "name": "stdout",
          "text": [
            "0\n",
            "1\n",
            "2\n",
            "3\n",
            "4\n",
            "5\n",
            "6\n",
            "7\n",
            "8\n",
            "9\n",
            "10\n"
          ]
        }
      ]
    },
    {
      "cell_type": "code",
      "metadata": {
        "id": "yPWO_6fmMq3-",
        "colab": {
          "base_uri": "https://localhost:8080/",
          "height": 0
        },
        "outputId": "70def9cf-e277-458f-ca04-0c79daa69960"
      },
      "source": [
        "playlist = [\"Bahay Kubo\", \"Magandang Kanta\", \"Buko\"]\n",
        "print('Now Playing:\\n ')\n",
        "for song in playlist:\n",
        "  print(song)"
      ],
      "execution_count": 67,
      "outputs": [
        {
          "output_type": "stream",
          "name": "stdout",
          "text": [
            "Now Playing:\n",
            " \n",
            "Bahay Kubo\n",
            "Magandang Kanta\n",
            "Buko\n"
          ]
        }
      ]
    },
    {
      "cell_type": "markdown",
      "metadata": {
        "id": "PxGlegADNNoo"
      },
      "source": [
        "## **Flow Control**\n",
        "\n",
        "#### This is the statement which conveying the orders of its branches. [6]"
      ]
    },
    {
      "cell_type": "markdown",
      "metadata": {
        "id": "ay2AxINZNTQD"
      },
      "source": [
        "## **Condition Statements**\n",
        "\n",
        "#### This is where the statement if, if else are being used. It is also used for determining whether the code is either correct or wrong. [9]"
      ]
    },
    {
      "cell_type": "code",
      "metadata": {
        "id": "ZUniZVuUNV61",
        "colab": {
          "base_uri": "https://localhost:8080/",
          "height": 0
        },
        "outputId": "0b7dc35e-a7b7-4454-c636-c64668018510"
      },
      "source": [
        "num_1, num_2 = 14, 12\n",
        "if(num_1 == num_2):\n",
        "  print(\"HAHA\")\n",
        "elif(num_1>num_2):\n",
        "    print(\"HOHO\")\n",
        "else:\n",
        "      print(\"HUHU\")"
      ],
      "execution_count": 68,
      "outputs": [
        {
          "output_type": "stream",
          "name": "stdout",
          "text": [
            "HOHO\n"
          ]
        }
      ]
    },
    {
      "cell_type": "markdown",
      "metadata": {
        "id": "ydJx1A9hN_fj"
      },
      "source": [
        "##**Functions**\n",
        "\n",
        "#### These examples are also connected to the conditional statements which uses variables to determine and execute the code. [9]"
      ]
    },
    {
      "cell_type": "code",
      "metadata": {
        "id": "U-QB9F-9OBpD"
      },
      "source": [
        "# void DeleteUser (int userid){\n",
        "# delete(userid);\n",
        "#}\n",
        "\n",
        "def delete_user (userid):\n",
        "  print(\"Succesfully deleted user: {}\".format(userid))"
      ],
      "execution_count": 69,
      "outputs": []
    },
    {
      "cell_type": "code",
      "metadata": {
        "id": "M-3YFc6BOcQK",
        "colab": {
          "base_uri": "https://localhost:8080/",
          "height": 0
        },
        "outputId": "e845faca-ef9b-48f5-c6ed-2ac4dd59f114"
      },
      "source": [
        "userid = 2020_100100\n",
        "delete_user(2020_100100)"
      ],
      "execution_count": 70,
      "outputs": [
        {
          "output_type": "stream",
          "name": "stdout",
          "text": [
            "Succesfully deleted user: 2020100100\n"
          ]
        }
      ]
    },
    {
      "cell_type": "code",
      "metadata": {
        "id": "Hq1ubo9aO3ah"
      },
      "source": [
        "def add(addend1, addend2):\n",
        "  sum = addend1 + addend2\n",
        "  return sum\n"
      ],
      "execution_count": 73,
      "outputs": []
    },
    {
      "cell_type": "code",
      "metadata": {
        "id": "ub-eA37KPzkQ",
        "colab": {
          "base_uri": "https://localhost:8080/",
          "height": 0
        },
        "outputId": "be154aeb-65e1-4581-a87b-04872cbef459"
      },
      "source": [
        "add(5, 4)"
      ],
      "execution_count": 72,
      "outputs": [
        {
          "output_type": "execute_result",
          "data": {
            "text/plain": [
              "9"
            ]
          },
          "metadata": {},
          "execution_count": 72
        }
      ]
    },
    {
      "cell_type": "markdown",
      "metadata": {
        "id": "KE2cy9XyShg_"
      },
      "source": [
        "##References:\n",
        "\n",
        "\n",
        "\n",
        "[1] S.Campbell (2021). \"Python Variables\". Available: [linktext](https://www.guru99.com/variables-in-python.html), Accessed on 11-09-2021. \n",
        "\n",
        "[2] TutorialsTeacher (2020). \"Python and Data Types\". Avaiable: [linktext](https://www.tutorialsteacher.com/python/python-data-types), Accesed on 11-09-2021.\n",
        "\n",
        "[3] Programiz (2020). \"Operators in Python and Input and Output definition\".Available: [linktext](https://www.programiz.com/python-programming/operators),  Accesed on 11-09-2021. \n",
        "\n",
        "[4] GeeksforGeeks (2020). \"Python Arithmetic Operators\", Available: [linktext](https://www.geeksforgeeks.org/python-arithmetic-operators/),  Accessed on 12-09-2021.\n",
        "\n",
        "[5] Python Pool (2021). \"Comparators in Python\", Available: [linktext](https://www.pythonpool.com/python-comparators/), Accessed on 12-09-2021. \n",
        "\n",
        "\n",
        "[6] TutorialsPoint (2021). \"Looping Statement in Python\", Available: [linktext](https://www.tutorialspoint.com/python/python_loops.htm), Accessed on 13-09-2021.\n",
        "\n",
        "[7] E.C Navone (2020). \"While loop Statement in Python\". freecodecamp. Available: [linktext](https://www.freecodecamp.org/news/python-while-loop-tutorial/), Accessed on 13-09-2021. \n",
        "\n",
        "[8] B. Thompson (2021) \"Types of Loops Statements\".Guru99. Available: [linktext](https://www.guru99.com/c-loop-statement.html), Accessed on 13-09-2021.\n",
        "\n",
        "\n",
        "[9] Software Testing Help (2021) \"Python introducing Conditional Statement\". Available: [linktext](https://www.softwaretestinghelp.com/python/python-conditional-statements/), Accessed on 13-09-2021. "
      ]
    }
  ]
}