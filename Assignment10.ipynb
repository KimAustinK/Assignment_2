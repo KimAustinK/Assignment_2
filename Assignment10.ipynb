{
  "nbformat": 4,
  "nbformat_minor": 0,
  "metadata": {
    "colab": {
      "name": "Assignment10.ipynb",
      "provenance": [],
      "collapsed_sections": [],
      "authorship_tag": "ABX9TyM1GO1cqvNCHdKKqWZn+mSF",
      "include_colab_link": true
    },
    "kernelspec": {
      "name": "python3",
      "display_name": "Python 3"
    },
    "language_info": {
      "name": "python"
    }
  },
  "cells": [
    {
      "cell_type": "markdown",
      "metadata": {
        "id": "view-in-github",
        "colab_type": "text"
      },
      "source": [
        "<a href=\"https://colab.research.google.com/github/KimAustinK/Assignment_2/blob/main/Assignment10.ipynb\" target=\"_parent\"><img src=\"https://colab.research.google.com/assets/colab-badge.svg\" alt=\"Open In Colab\"/></a>"
      ]
    },
    {
      "cell_type": "markdown",
      "metadata": {
        "id": "iXSJUalxRyhq"
      },
      "source": [
        "##Laboratory 10 : Linear Combination and Vector Spaces"
      ]
    },
    {
      "cell_type": "markdown",
      "metadata": {
        "id": "nWjRSsqnS-IL"
      },
      "source": [
        "###Objectives\n",
        "At the end of this activity you will be able to:\n",
        "1. Be familiar with representing linear combinations in the 2-dimensional plane.\n",
        "2. Visualize spans using vector fields in Python.\n",
        "3. Perform vector fields operations using scientific programming."
      ]
    },
    {
      "cell_type": "markdown",
      "metadata": {
        "id": "8cP9Zms4TBLo"
      },
      "source": [
        "###Discussion"
      ]
    },
    {
      "cell_type": "code",
      "metadata": {
        "id": "Mr1zKPW-Rve_"
      },
      "source": [
        "import numpy as np\n",
        "import matplotlib.pyplot as plt\n",
        "%matplotlib inline"
      ],
      "execution_count": 2,
      "outputs": []
    },
    {
      "cell_type": "markdown",
      "metadata": {
        "id": "wGiie-0oTWxy"
      },
      "source": [
        "##Linear Combination"
      ]
    },
    {
      "cell_type": "markdown",
      "metadata": {
        "id": "g5Fip6rw6nUj"
      },
      "source": [
        "It is said that a linear combination is the combination of linear scaling and addition of a vector its bases/components"
      ]
    },
    {
      "cell_type": "markdown",
      "metadata": {
        "id": "1VS2rzGn6pNy"
      },
      "source": [
        "We will try to visualize the vectors and their linear combinations by plotting a sample of real number values for the scalars for the vectors. Let's first try the vectors below:"
      ]
    },
    {
      "cell_type": "markdown",
      "metadata": {
        "id": "DDDKh32NTY21"
      },
      "source": [
        "$$X = \\begin{bmatrix} 2\\\\5 \\\\\\end{bmatrix} , Y = \\begin{bmatrix} 7\\\\9 \\\\\\end{bmatrix} $$"
      ]
    },
    {
      "cell_type": "code",
      "metadata": {
        "colab": {
          "base_uri": "https://localhost:8080/"
        },
        "id": "WU_nsYdjTaB4",
        "outputId": "dc4849d1-717e-43bd-d077-53640fc071ca"
      },
      "source": [
        "vectX = np.array([2,5])\n",
        "vectY = np.array([7,9])\n",
        "#vectX\n",
        "vectY"
      ],
      "execution_count": null,
      "outputs": [
        {
          "output_type": "execute_result",
          "data": {
            "text/plain": [
              "array([7, 9])"
            ]
          },
          "metadata": {},
          "execution_count": 5
        }
      ]
    },
    {
      "cell_type": "markdown",
      "metadata": {
        "id": "QoVh07AMTprN"
      },
      "source": [
        "##Span of Single Vectors"
      ]
    },
    {
      "cell_type": "markdown",
      "metadata": {
        "id": "-6zcBBSI6tOR"
      },
      "source": [
        "As discussed in the lecture, the span of individual vectors can be represented by a line span. Let's take vector $X$ as an example."
      ]
    },
    {
      "cell_type": "markdown",
      "metadata": {
        "id": "z5WCwgHZUD_Q"
      },
      "source": [
        "$$X = c\\cdot \\begin{bmatrix} 2\\\\5 \\\\\\end{bmatrix} $$"
      ]
    },
    {
      "cell_type": "code",
      "metadata": {
        "colab": {
          "base_uri": "https://localhost:8080/",
          "height": 269
        },
        "id": "WAw_PpW_UHAH",
        "outputId": "07b7b458-abcd-4ff0-ec98-9a6f5f50e187"
      },
      "source": [
        "c = np.arange(-10,10,0.125)\n",
        "\n",
        "plt.scatter(c*vectX[0],c*vectX[1])\n",
        "\n",
        "plt.xlim(-10,10)\n",
        "plt.ylim(-10,10)\n",
        "plt.axhline(y=0, color='k')\n",
        "plt.axvline(x=0, color='k')\n",
        "plt.grid()\n",
        "plt.show()"
      ],
      "execution_count": null,
      "outputs": [
        {
          "output_type": "display_data",
          "data": {
            "image/png": "[encoded data removed]",
            "text/plain": [
              "<Figure size 432x288 with 1 Axes>"
            ]
          },
          "metadata": {
            "needs_background": "light"
          }
        }
      ]
    },
    {
      "cell_type": "markdown",
      "metadata": {
        "id": "SzOnE-qSWak1"
      },
      "source": [
        "$$Kim = c\\cdot \\begin{bmatrix} 7\\\\9 \\\\\\end{bmatrix} $$"
      ]
    },
    {
      "cell_type": "code",
      "metadata": {
        "colab": {
          "base_uri": "https://localhost:8080/",
          "height": 269
        },
        "id": "B3KhsJadWtol",
        "outputId": "ed3d6ae9-0a83-440b-fdd1-21a1818f8168"
      },
      "source": [
        "c = np.arange(-15,15,0.5)\n",
        "\n",
        "plt.scatter(c*vectY[0],c*vectY[1])\n",
        "\n",
        "plt.xlim(-20,20)\n",
        "plt.ylim(-20,20)\n",
        "plt.axhline(y=0, color='k')\n",
        "plt.axvline(x=0, color='k')\n",
        "plt.grid()\n",
        "plt.show()"
      ],
      "execution_count": null,
      "outputs": [
        {
          "output_type": "display_data",
          "data": {
            "image/png": "[encoded data removed]",
            "text/plain": [
              "<Figure size 432x288 with 1 Axes>"
            ]
          },
          "metadata": {
            "needs_background": "light"
          }
        }
      ]
    },
    {
      "cell_type": "markdown",
      "metadata": {
        "id": "ssPPHKmLWTCN"
      },
      "source": [
        "## Span of linear combination of vectors"
      ]
    },
    {
      "cell_type": "markdown",
      "metadata": {
        "id": "zQ6L4TvQ6xC8"
      },
      "source": [
        "So what if we are to plot the span of a linear combination of vectors? We can visualize as a plane on the 2-dimensional coordinate system. Let's take the span of the linear combination below:"
      ]
    },
    {
      "cell_type": "code",
      "metadata": {
        "colab": {
          "base_uri": "https://localhost:8080/",
          "height": 265
        },
        "id": "ORxVeB6RX6vP",
        "outputId": "b9e824a7-41bd-42ec-c7ed-a4f30d548ce0"
      },
      "source": [
        "vectA = np.array([8,5])\n",
        "vectB = np.array([4,-9])\n",
        "\n",
        "R = np.arange(-10,10,1)\n",
        "\n",
        "c1, c2 = np.meshgrid(R,R)\n",
        "\n",
        "\n",
        "vectR = vectA + vectB\n",
        "spanRx = c1*vectA[0] + c2*vectB[0]\n",
        "spanRy = c1*vectA[1] + c2*vectB[1]\n",
        "##plt.scatter(R*vectA[0],R*vectA[1])\n",
        "##plt.scatter(R*vectB[0],R*vectB[1])\n",
        "plt.scatter(spanRx,spanRy, s=5, alpha=0.75)\n",
        "\n",
        "plt.axhline(y=0, color='k')\n",
        "plt.axvline(x=0, color='k')\n",
        "plt.grid()\n",
        "plt.show()"
      ],
      "execution_count": null,
      "outputs": [
        {
          "output_type": "display_data",
          "data": {
            "image/png": "[encoded data removed]",
            "text/plain": [
              "<Figure size 432x288 with 1 Axes>"
            ]
          },
          "metadata": {
            "needs_background": "light"
          }
        }
      ]
    },
    {
      "cell_type": "code",
      "metadata": {
        "colab": {
          "base_uri": "https://localhost:8080/",
          "height": 265
        },
        "id": "uWSp4kI3bNGD",
        "outputId": "b4bfd26c-7d31-4434-e541-1527449911e9"
      },
      "source": [
        "vectP = np.array([2,1])\n",
        "vectQ = np.array([4,3])\n",
        "\n",
        "R = np.arange(-10,10,1)\n",
        "\n",
        "c1, c2 = np.meshgrid(R,R)\n",
        "\n",
        "\n",
        "vectR = vectP + vectQ\n",
        "spanRx = c1*vectP[0] + c2*vectQ[0]\n",
        "spanRy = c1*vectP[1] + c2*vectQ[1]\n",
        "##plt.scatter(R*vectA[0],R*vectA[1])\n",
        "##plt.scatter(R*vectB[0],R*vectB[1])\n",
        "plt.scatter(spanRx,spanRy, s=5, alpha=0.75)\n",
        "\n",
        "plt.axhline(y=0, color='k')\n",
        "plt.axvline(x=0, color='k')\n",
        "plt.grid()\n",
        "plt.show()"
      ],
      "execution_count": null,
      "outputs": [
        {
          "output_type": "display_data",
          "data": {
            "image/png": "[encoded data removed]",
            "text/plain": [
              "<Figure size 432x288 with 1 Axes>"
            ]
          },
          "metadata": {
            "needs_background": "light"
          }
        }
      ]
    },
    {
      "cell_type": "markdown",
      "metadata": {
        "id": "-bp7uqqy600h"
      },
      "source": [
        "Take note that if vectors are seen to be as a 2-dimensional span we can say it has a Rank of 2 or $\\mathbb{R}^2$. But if the span of the linear combination of vectors are seen to be like a line, they are said to be <b> linearly dependent </b> and they have a rank of 1 or $\\mathbb{R}^1$."
      ]
    },
    {
      "cell_type": "markdown",
      "metadata": {
        "id": "OY_bEn8kcN-5"
      },
      "source": [
        "##Activity"
      ]
    },
    {
      "cell_type": "markdown",
      "metadata": {
        "id": "IbDFTnsgc8x2"
      },
      "source": [
        "w = 0.3P + 0.3M + 0.4F\n",
        "\n",
        "P, M, F"
      ]
    },
    {
      "cell_type": "code",
      "metadata": {
        "colab": {
          "base_uri": "https://localhost:8080/"
        },
        "id": "jvg1GZTYdOYn",
        "outputId": "cd9ec4cd-68a1-4051-aa38-3fdb7d0ad595"
      },
      "source": [
        "w = np.array([0.3, 0.3, 0.4])\n",
        "grades = np.array([95, 70, 60])\n",
        "w @ grades"
      ],
      "execution_count": null,
      "outputs": [
        {
          "output_type": "execute_result",
          "data": {
            "text/plain": [
              "73.5"
            ]
          },
          "metadata": {},
          "execution_count": 38
        }
      ]
    },
    {
      "cell_type": "markdown",
      "metadata": {
        "id": "nir-ibTvdCFN"
      },
      "source": [
        "##Activity"
      ]
    },
    {
      "cell_type": "markdown",
      "metadata": {
        "id": "S9bVOZfmnQgP"
      },
      "source": [
        "Try different linear combinations using different scalar values. In your methodology discuss the different functions that you have used, the linear equation and vector form of the linear combination, and the flowchart for declaring and displaying linear combinations. Please make sure that your flowchart has only few words and not putting the entire code as it is bad practice. In your results, display and discuss the linear combination visualization you made. You should use the cells below for displaying the equation markdows using LaTeX and your code.\n",
        "\n",
        "\n"
      ]
    },
    {
      "cell_type": "code",
      "metadata": {
        "id": "0HRxjx7Sxs0D"
      },
      "source": [
        ""
      ],
      "execution_count": null,
      "outputs": []
    },
    {
      "cell_type": "markdown",
      "metadata": {
        "id": "AeaAFNrPxKEr"
      },
      "source": [
        "$$Kim = \\begin{Bmatrix} V_1 \\cdot\\begin{bmatrix} 8\\\\4 \\\\\\end{bmatrix}, \n",
        "V_2 \\cdot \\begin{bmatrix} 5\\\\-9 \\\\\\end{bmatrix}\\end{Bmatrix} $$"
      ]
    },
    {
      "cell_type": "code",
      "metadata": {
        "id": "g1uqk4bPBLkT"
      },
      "source": [
        ""
      ],
      "execution_count": null,
      "outputs": []
    },
    {
      "cell_type": "markdown",
      "metadata": {
        "id": "24Y6U2Fp1tNG"
      },
      "source": [
        "$$ 7x-2y-46z= 0$$"
      ]
    },
    {
      "cell_type": "code",
      "metadata": {
        "id": "bkQAWUVzdKjK",
        "colab": {
          "base_uri": "https://localhost:8080/",
          "height": 265
        },
        "outputId": "a7a80a05-7bd1-4787-d246-bd4990166667"
      },
      "source": [
        "vectA = np.array([8, 4])\n",
        "vectB = np.array([5,-9])\n",
        "\n",
        "R = np.arange(-10,10,1)\n",
        "\n",
        "V1, V2 = np.meshgrid(R,R)\n",
        "\n",
        "vectR = vectA + vectB\n",
        "spanRx = V1*vectA[0] + V2*vectB[0]\n",
        "spanRy = V1*vectA[1] + V2*vectB[1]\n",
        "\n",
        "plt.scatter(spanRx,spanRy, s=5, alpha=0.75)\n",
        "\n",
        "plt.axhline(y=0, color='k')\n",
        "plt.axvline(x=0, color='k')\n",
        "plt.grid()\n",
        "plt.show()"
      ],
      "execution_count": 16,
      "outputs": [
        {
          "output_type": "display_data",
          "data": {
            "image/png": "[encoded data removed]",
            "text/plain": [
              "<Figure size 432x288 with 1 Axes>"
            ]
          },
          "metadata": {
            "needs_background": "light"
          }
        }
      ]
    },
    {
      "cell_type": "markdown",
      "metadata": {
        "id": "38NYq8uu9E0B"
      },
      "source": [
        "![image.png](data:image/png;base64,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)"
      ]
    }
  ]
}