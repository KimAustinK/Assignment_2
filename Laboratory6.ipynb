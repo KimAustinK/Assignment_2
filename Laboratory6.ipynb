{
  "nbformat": 4,
  "nbformat_minor": 0,
  "metadata": {
    "colab": {
      "name": "Laboratory6.ipynb",
      "provenance": [],
      "authorship_tag": "ABX9TyO43Ns9wEOZdW2QbEYqcmIX",
      "include_colab_link": true
    },
    "kernelspec": {
      "name": "python3",
      "display_name": "Python 3"
    },
    "language_info": {
      "name": "python"
    }
  },
  "cells": [
    {
      "cell_type": "markdown",
      "metadata": {
        "id": "view-in-github",
        "colab_type": "text"
      },
      "source": [
        "<a href=\"https://colab.research.google.com/github/KimAustinK/Assignment_2/blob/main/Laboratory6.ipynb\" target=\"_parent\"><img src=\"https://colab.research.google.com/assets/colab-badge.svg\" alt=\"Open In Colab\"/></a>"
      ]
    },
    {
      "cell_type": "markdown",
      "metadata": {
        "id": "pVIai-C_I2Fn"
      },
      "source": [
        "#**Linear Algebra for ECE**\n",
        "##**Laboratory 6: Matrix Operations**\n",
        "\n",
        "Now that you have a fundamental knowledge about representing and operating with vectors as well as the fundamentals of matrices, we'll try to do the same operations with matrices and even more. "
      ]
    },
    {
      "cell_type": "markdown",
      "metadata": {
        "id": "P8ekxdHWI5OT"
      },
      "source": [
        "###**Objectives**\n",
        "At the end of this activity you will be able to:\n",
        "1. Be familiar with the fundamental matrix operations.\n",
        "2. Apply the operations to solve intermmediate equations.\n",
        "3. Apply matrix algebra in engineering solutions"
      ]
    },
    {
      "cell_type": "code",
      "metadata": {
        "id": "rF1mIh80IrCZ"
      },
      "source": [
        "import numpy as np\n",
        "import matplotlib.pyplot as plt\n",
        "%matplotlib inline"
      ],
      "execution_count": null,
      "outputs": []
    },
    {
      "cell_type": "markdown",
      "metadata": {
        "id": "hhhpdMHKI9eG"
      },
      "source": [
        "###**Transposition**"
      ]
    },
    {
      "cell_type": "markdown",
      "metadata": {
        "id": "GG5s7UNuJAGV"
      },
      "source": [
        "One of the fundamental operations in matrix algebra is Transposition. The transpose of a matrix is done by flipping the values of its elements over its diagonals. With this, the rows and columns from the original matrix will be switched. So for a matrix $A$ its transpose is denoted as $A^T$. \n",
        "So far example:"
      ]
    },
    {
      "cell_type": "markdown",
      "metadata": {
        "id": "a7FPrT-cJtih"
      },
      "source": [
        "$$A = \\begin{bmatrix} 1 & 2 & 5\\\\5 & -1 &0 \\\\ 0 & -3 & 3\\end{bmatrix} $$\n",
        "\n",
        "$$A^T = \\begin{bmatrix} 1 & 5 & 0\\\\2 & -1 &-3 \\\\ 5 & 0 & 3\\end{bmatrix} $$"
      ]
    },
    {
      "cell_type": "markdown",
      "metadata": {
        "id": "aoigjMU6KHx6"
      },
      "source": [
        "This can now be achieved programmatically by using np.tanspose() or using the T method."
      ]
    },
    {
      "cell_type": "code",
      "metadata": {
        "colab": {
          "base_uri": "https://localhost:8080/"
        },
        "id": "pqlgmYvwKKJI",
        "outputId": "8ee855b5-c078-4b81-e918-eadf7897cc6c"
      },
      "source": [
        "A = np.array ([\n",
        "    [1,2,5],\n",
        "    [5,-1,0],\n",
        "    [0,-3,3]\n",
        "])\n",
        "A"
      ],
      "execution_count": null,
      "outputs": [
        {
          "output_type": "execute_result",
          "data": {
            "text/plain": [
              "array([[ 1,  2,  5],\n",
              "       [ 5, -1,  0],\n",
              "       [ 0, -3,  3]])"
            ]
          },
          "metadata": {},
          "execution_count": 3
        }
      ]
    },
    {
      "cell_type": "code",
      "metadata": {
        "colab": {
          "base_uri": "https://localhost:8080/"
        },
        "id": "ZT1cyLi2KMGK",
        "outputId": "e386cbe3-79a3-46c6-fbb9-40893ba18425"
      },
      "source": [
        "AT1 = np.transpose(A)\n",
        "AT1"
      ],
      "execution_count": null,
      "outputs": [
        {
          "output_type": "execute_result",
          "data": {
            "text/plain": [
              "array([[ 1,  5,  0],\n",
              "       [ 2, -1, -3],\n",
              "       [ 5,  0,  3]])"
            ]
          },
          "metadata": {},
          "execution_count": 4
        }
      ]
    },
    {
      "cell_type": "code",
      "metadata": {
        "colab": {
          "base_uri": "https://localhost:8080/"
        },
        "id": "lzEaG9xcKMom",
        "outputId": "2d891cca-150f-41eb-9d83-be61838d0f01"
      },
      "source": [
        "AT2 = A.T\n",
        "AT2"
      ],
      "execution_count": null,
      "outputs": [
        {
          "output_type": "execute_result",
          "data": {
            "text/plain": [
              "array([[ 1,  5,  0],\n",
              "       [ 2, -1, -3],\n",
              "       [ 5,  0,  3]])"
            ]
          },
          "metadata": {},
          "execution_count": 5
        }
      ]
    },
    {
      "cell_type": "code",
      "metadata": {
        "colab": {
          "base_uri": "https://localhost:8080/"
        },
        "id": "mLNgViDuKOPn",
        "outputId": "3695144a-07be-4658-bf6e-271c8ba891fb"
      },
      "source": [
        "np.array_equiv(AT1, AT2)"
      ],
      "execution_count": null,
      "outputs": [
        {
          "output_type": "execute_result",
          "data": {
            "text/plain": [
              "True"
            ]
          },
          "metadata": {},
          "execution_count": 6
        }
      ]
    },
    {
      "cell_type": "code",
      "metadata": {
        "colab": {
          "base_uri": "https://localhost:8080/"
        },
        "id": "JNvN8WoKKP36",
        "outputId": "b8afc130-832b-4e6b-e91f-5ae25da80f82"
      },
      "source": [
        "B = np.array([\n",
        "    [1,2,3,4],\n",
        "    [1,0,2,1],\n",
        "])\n",
        "B.shape"
      ],
      "execution_count": null,
      "outputs": [
        {
          "output_type": "execute_result",
          "data": {
            "text/plain": [
              "(2, 4)"
            ]
          },
          "metadata": {},
          "execution_count": 7
        }
      ]
    },
    {
      "cell_type": "code",
      "metadata": {
        "colab": {
          "base_uri": "https://localhost:8080/"
        },
        "id": "Lja8D9eoKbY5",
        "outputId": "d543ad74-3b72-4737-c2b5-96651719556c"
      },
      "source": [
        "np.transpose(B).shape"
      ],
      "execution_count": null,
      "outputs": [
        {
          "output_type": "execute_result",
          "data": {
            "text/plain": [
              "(4, 2)"
            ]
          },
          "metadata": {},
          "execution_count": 8
        }
      ]
    },
    {
      "cell_type": "code",
      "metadata": {
        "colab": {
          "base_uri": "https://localhost:8080/"
        },
        "id": "EVVwYbjYKcuY",
        "outputId": "ec0c5df6-6512-4ab0-9768-eb6166a5a17c"
      },
      "source": [
        "B.T.shape"
      ],
      "execution_count": null,
      "outputs": [
        {
          "output_type": "execute_result",
          "data": {
            "text/plain": [
              "(4, 2)"
            ]
          },
          "metadata": {},
          "execution_count": 9
        }
      ]
    },
    {
      "cell_type": "markdown",
      "metadata": {
        "id": "vK_24ECLKfwd"
      },
      "source": [
        "**Try to create your own matrix (you can try non-squares) to test transposition.**"
      ]
    },
    {
      "cell_type": "code",
      "metadata": {
        "colab": {
          "base_uri": "https://localhost:8080/"
        },
        "id": "ZhP64lI-KgJs",
        "outputId": "6e2aed3a-eaf7-401c-bf5c-60ba2f480040"
      },
      "source": [
        "M = np.array([\n",
        "    [3,6,4,0],\n",
        "    [4,1,4,5],\n",
        "    [2,4,6,2],\n",
        "])\n",
        "M.shape"
      ],
      "execution_count": null,
      "outputs": [
        {
          "output_type": "execute_result",
          "data": {
            "text/plain": [
              "(3, 4)"
            ]
          },
          "metadata": {},
          "execution_count": 10
        }
      ]
    },
    {
      "cell_type": "code",
      "metadata": {
        "colab": {
          "base_uri": "https://localhost:8080/"
        },
        "id": "ZqZv5bWKKiB4",
        "outputId": "a4526f03-ede4-49be-dc03-06702d64d945"
      },
      "source": [
        "np.transpose(M).shape"
      ],
      "execution_count": null,
      "outputs": [
        {
          "output_type": "execute_result",
          "data": {
            "text/plain": [
              "(4, 3)"
            ]
          },
          "metadata": {},
          "execution_count": 11
        }
      ]
    },
    {
      "cell_type": "code",
      "metadata": {
        "colab": {
          "base_uri": "https://localhost:8080/"
        },
        "id": "DowlK4wqKjXD",
        "outputId": "2d3ca589-9ffe-43b2-e242-c5bc0728e19e"
      },
      "source": [
        "M.T.shape"
      ],
      "execution_count": null,
      "outputs": [
        {
          "output_type": "execute_result",
          "data": {
            "text/plain": [
              "(4, 3)"
            ]
          },
          "metadata": {},
          "execution_count": 12
        }
      ]
    },
    {
      "cell_type": "code",
      "metadata": {
        "colab": {
          "base_uri": "https://localhost:8080/"
        },
        "id": "mHXEn4IZKkiG",
        "outputId": "40c834e7-42ed-4cd0-a6b9-fe32b0d63be4"
      },
      "source": [
        "MT = M.T\n",
        "MT"
      ],
      "execution_count": null,
      "outputs": [
        {
          "output_type": "execute_result",
          "data": {
            "text/plain": [
              "array([[3, 4, 2],\n",
              "       [6, 1, 4],\n",
              "       [4, 4, 6],\n",
              "       [0, 5, 2]])"
            ]
          },
          "metadata": {},
          "execution_count": 13
        }
      ]
    },
    {
      "cell_type": "markdown",
      "metadata": {
        "id": "Cg3XlhT1Ko7G"
      },
      "source": [
        "##**Dot Product / Inner Product**\n",
        "\n",
        "If you recall the dot product from laboratory activity before, we will try to implement the same operation with matrices. In matrix dot product we are going to get the sum of products of the vectors by row-column pairs. So if we have two matrices $X$ and $Y$:\n",
        "\n",
        "$$x = \\begin{bmatrix} x_{(0,0)} & x_{(0,1)}\\\\x_{(1,0)} & x_{(1,1)}\\end{bmatrix} $$\n",
        "\n",
        "The dot product will then be computed as:\n",
        "\n",
        "$$x = \\begin{bmatrix} x_{(0,0)} {^*}  y_{(0,0)} + x_{(0,1)} {^*} y_{(1,0)} & x_{(0,0)} {^*} y_{(0,1)} + x_{(0,1)} {^*} y_{(1,1)}\\\\x_{(1,0)} {^*} y_{(0,0)} + x_{(1,1)} {^*} y_{(1,0)} & x_{(1,0)} {^*} y_{(0,1)} + x_{(1,1)} {^*} y_{(1,1)}\\end{bmatrix} $$\n",
        "\n",
        "So if we assign values to $X$ and $Y$:\n",
        "\n",
        "$$X = \\begin{bmatrix} 1 & 2\\\\0 & 1\\end{bmatrix}, X = \\begin{bmatrix} -1 & 02 & 2\\end{bmatrix} $$ \n",
        "\n",
        "$$X\\cdot Y = \\begin{bmatrix} 1 {^*} -1+2{^*}2 & 1{^*}0+2{^*}2\\\\0{^*} -1+1{^*}2 & 0{^*}0+1{^*}2\\end{bmatrix} = \\begin{bmatrix} 3 & 42 & 2\\end{bmatrix} $$ \n",
        "\n",
        "This could be achieved programmatically using np.dot(), np.matmul() or the @ operator."
      ]
    },
    {
      "cell_type": "code",
      "metadata": {
        "id": "hun593ryKt5e"
      },
      "source": [
        "X = np.array([\n",
        "    [1,2],\n",
        "    [0,1]\n",
        "])\n",
        "Y = np.array([\n",
        "    [-1,0],\n",
        "    [2,2]\n",
        "])"
      ],
      "execution_count": null,
      "outputs": []
    },
    {
      "cell_type": "code",
      "metadata": {
        "colab": {
          "base_uri": "https://localhost:8080/"
        },
        "id": "TkNclAxTKvdH",
        "outputId": "d2653eb1-2395-4fa3-d8c5-9751e6405474"
      },
      "source": [
        "np.dot(X,Y)"
      ],
      "execution_count": null,
      "outputs": [
        {
          "output_type": "execute_result",
          "data": {
            "text/plain": [
              "array([[3, 4],\n",
              "       [2, 2]])"
            ]
          },
          "metadata": {},
          "execution_count": 15
        }
      ]
    },
    {
      "cell_type": "code",
      "metadata": {
        "colab": {
          "base_uri": "https://localhost:8080/"
        },
        "id": "Cf4Oa5AiKvyE",
        "outputId": "e4f1e9ed-ba44-452a-eb56-c86cf6926820"
      },
      "source": [
        "X.dot(Y)"
      ],
      "execution_count": null,
      "outputs": [
        {
          "output_type": "execute_result",
          "data": {
            "text/plain": [
              "array([[3, 4],\n",
              "       [2, 2]])"
            ]
          },
          "metadata": {},
          "execution_count": 16
        }
      ]
    },
    {
      "cell_type": "code",
      "metadata": {
        "colab": {
          "base_uri": "https://localhost:8080/"
        },
        "id": "zV631Jy-Kw89",
        "outputId": "b59c4663-8a96-4c22-bfe8-b0a183a72956"
      },
      "source": [
        "X@Y"
      ],
      "execution_count": null,
      "outputs": [
        {
          "output_type": "execute_result",
          "data": {
            "text/plain": [
              "array([[3, 4],\n",
              "       [2, 2]])"
            ]
          },
          "metadata": {},
          "execution_count": 17
        }
      ]
    },
    {
      "cell_type": "code",
      "metadata": {
        "colab": {
          "base_uri": "https://localhost:8080/"
        },
        "id": "kg1KKSXWKyY_",
        "outputId": "3d2218fc-6dbb-4af4-f897-2f62a7a986a8"
      },
      "source": [
        "np.matmul(X,Y)"
      ],
      "execution_count": null,
      "outputs": [
        {
          "output_type": "execute_result",
          "data": {
            "text/plain": [
              "array([[3, 4],\n",
              "       [2, 2]])"
            ]
          },
          "metadata": {},
          "execution_count": 18
        }
      ]
    },
    {
      "cell_type": "code",
      "metadata": {
        "id": "p_PjBiYMKz6g"
      },
      "source": [
        "M = np.array([\n",
        "    [1,2,5],\n",
        "    [0,1,3],\n",
        "    [3,5,8]\n",
        "])\n",
        "F = np.array([\n",
        "    [-1,-3,8],\n",
        "    [2,4,2],\n",
        "    [4,6,4]\n",
        "])"
      ],
      "execution_count": null,
      "outputs": []
    },
    {
      "cell_type": "code",
      "metadata": {
        "colab": {
          "base_uri": "https://localhost:8080/"
        },
        "id": "Hljc7mrUK1c3",
        "outputId": "c99abd76-d6b9-40f9-d32b-87818e7a0c7b"
      },
      "source": [
        "np.dot(M,F)"
      ],
      "execution_count": null,
      "outputs": [
        {
          "output_type": "execute_result",
          "data": {
            "text/plain": [
              "array([[23, 35, 32],\n",
              "       [14, 22, 14],\n",
              "       [39, 59, 66]])"
            ]
          },
          "metadata": {},
          "execution_count": 20
        }
      ]
    },
    {
      "cell_type": "code",
      "metadata": {
        "colab": {
          "base_uri": "https://localhost:8080/"
        },
        "id": "SyyngxBUK3Na",
        "outputId": "f29c27f3-4a71-411f-d3f0-62d3c627d215"
      },
      "source": [
        "M.dot(F)"
      ],
      "execution_count": null,
      "outputs": [
        {
          "output_type": "execute_result",
          "data": {
            "text/plain": [
              "array([[23, 35, 32],\n",
              "       [14, 22, 14],\n",
              "       [39, 59, 66]])"
            ]
          },
          "metadata": {},
          "execution_count": 21
        }
      ]
    },
    {
      "cell_type": "code",
      "metadata": {
        "colab": {
          "base_uri": "https://localhost:8080/"
        },
        "id": "JgZ-uzK5K4bY",
        "outputId": "84b8ba5f-024a-4002-84b2-7cf2a42c3d9f"
      },
      "source": [
        "M@F"
      ],
      "execution_count": null,
      "outputs": [
        {
          "output_type": "execute_result",
          "data": {
            "text/plain": [
              "array([[23, 35, 32],\n",
              "       [14, 22, 14],\n",
              "       [39, 59, 66]])"
            ]
          },
          "metadata": {},
          "execution_count": 22
        }
      ]
    },
    {
      "cell_type": "code",
      "metadata": {
        "colab": {
          "base_uri": "https://localhost:8080/"
        },
        "id": "gpcsmq7yK536",
        "outputId": "636f854e-7bb7-4e93-f76d-12f73d858e03"
      },
      "source": [
        "np.matmul(M,F)"
      ],
      "execution_count": null,
      "outputs": [
        {
          "output_type": "execute_result",
          "data": {
            "text/plain": [
              "array([[23, 35, 32],\n",
              "       [14, 22, 14],\n",
              "       [39, 59, 66]])"
            ]
          },
          "metadata": {},
          "execution_count": 23
        }
      ]
    },
    {
      "cell_type": "markdown",
      "metadata": {
        "id": "ba0cATMELHNo"
      },
      "source": [
        "In matrix dot products there are additional rules compared with vector dot products. Since vector dot products were just in one dimension there are less restrictions. Since now we are dealing with Rank 2 vectors we need to consider some rules:\n",
        "\n",
        "##**Rule 1: The inner dimensions of two matrices in question must be the same.**\n",
        "\n",
        "So given a matrix $A$ with a shape of $(a,b)$ where $a$ and $b$ are any integers. If we want to do a dot product between $A$ and another matrix $B$, then matrix $B$ should have a shape of $(b,c)$ where $b$ and $c$ are any integers. So for given the following matrices:\n",
        "\n",
        "$$A = \\begin{bmatrix} 2 & 4\\\\5 & -2\\\\ 0 & 1\\end{bmatrix}, B = \\begin{bmatrix} 1 & 1 & 3 & 3-1 & -2\\end{bmatrix}, C = \\begin{bmatrix} 0 & 1 & 1 & 1 & 1 & 2\\end{bmatrix}$$ \n",
        "\n",
        "So in this case $A$ has a shape of $(3,2)$, $B$ has a shape of $(3,2)$ and $C$ has a shape of $(2,3)$. So the only matrix pairs that is eligible to perform dot product is matrices $A \\cdot C$, or $B \\cdot C$."
      ]
    },
    {
      "cell_type": "code",
      "metadata": {
        "colab": {
          "base_uri": "https://localhost:8080/"
        },
        "id": "YBWKNGITLJhp",
        "outputId": "9a924a6e-31de-4069-f013-50a36cc1fec9"
      },
      "source": [
        "A = np.array([\n",
        "    [2,4],\n",
        "    [5,-2],\n",
        "    [0,1]\n",
        "])\n",
        "B = np.array([\n",
        "    [1,1],\n",
        "    [3,3],\n",
        "    [-1,-2]\n",
        "])\n",
        "C = np.array([\n",
        "    [0,1,1],\n",
        "    [1,1,2]\n",
        "])\n",
        "print(A.shape)\n",
        "print(B.shape)\n",
        "print(C.shape)"
      ],
      "execution_count": null,
      "outputs": [
        {
          "output_type": "stream",
          "name": "stdout",
          "text": [
            "(3, 2)\n",
            "(3, 2)\n",
            "(2, 3)\n"
          ]
        }
      ]
    },
    {
      "cell_type": "code",
      "metadata": {
        "colab": {
          "base_uri": "https://localhost:8080/"
        },
        "id": "UxI_ko_oLLGZ",
        "outputId": "d2412eff-1310-4d1d-bcd1-623f0b90c736"
      },
      "source": [
        "A@C"
      ],
      "execution_count": null,
      "outputs": [
        {
          "output_type": "execute_result",
          "data": {
            "text/plain": [
              "array([[ 4,  6, 10],\n",
              "       [-2,  3,  1],\n",
              "       [ 1,  1,  2]])"
            ]
          },
          "metadata": {},
          "execution_count": 25
        }
      ]
    },
    {
      "cell_type": "code",
      "metadata": {
        "colab": {
          "base_uri": "https://localhost:8080/"
        },
        "id": "T5IEgYdtLLZv",
        "outputId": "8df39727-8b2c-4a8d-fc2a-5b609bd94252"
      },
      "source": [
        "B@C"
      ],
      "execution_count": null,
      "outputs": [
        {
          "output_type": "execute_result",
          "data": {
            "text/plain": [
              "array([[ 1,  2,  3],\n",
              "       [ 3,  6,  9],\n",
              "       [-2, -3, -5]])"
            ]
          },
          "metadata": {},
          "execution_count": 26
        }
      ]
    },
    {
      "cell_type": "markdown",
      "metadata": {
        "id": "AYSuo1VOLOjY"
      },
      "source": [
        "If you would notice the shape of the dot product changed and its shape is not the same as any of the matrices we used. The shape of a dot product is actually derived from the shapes of the matrices used. So recall matrix $A$ with a shape of $(a,b)$ and matrix $B$ with a shape of $(b,c)$, $A \\cdot B$ should have a shape $(a,c)$."
      ]
    },
    {
      "cell_type": "code",
      "metadata": {
        "colab": {
          "base_uri": "https://localhost:8080/"
        },
        "id": "mUpRbtRNLk_o",
        "outputId": "e3fd25f7-feb5-49a4-c3f0-7635006c13b2"
      },
      "source": [
        "A@B.T"
      ],
      "execution_count": null,
      "outputs": [
        {
          "output_type": "execute_result",
          "data": {
            "text/plain": [
              "array([[  6,  18, -10],\n",
              "       [  3,   9,  -1],\n",
              "       [  1,   3,  -2]])"
            ]
          },
          "metadata": {},
          "execution_count": 27
        }
      ]
    },
    {
      "cell_type": "code",
      "metadata": {
        "colab": {
          "base_uri": "https://localhost:8080/"
        },
        "id": "6lsftQZKLlbI",
        "outputId": "f0470f69-c295-4b7a-b665-6e087201bd46"
      },
      "source": [
        "X = np.array([\n",
        "    [1,2,3,0],\n",
        "])\n",
        "Y = np.array([\n",
        "    [1,0,4,-1],\n",
        "])\n",
        "print(X.shape)\n",
        "print(Y.shape)"
      ],
      "execution_count": null,
      "outputs": [
        {
          "output_type": "stream",
          "name": "stdout",
          "text": [
            "(1, 4)\n",
            "(1, 4)\n"
          ]
        }
      ]
    },
    {
      "cell_type": "code",
      "metadata": {
        "colab": {
          "base_uri": "https://localhost:8080/"
        },
        "id": "BNXS68JsLn_E",
        "outputId": "97e91fe5-ce32-45be-89f8-7d134131782a"
      },
      "source": [
        "Y.T@X"
      ],
      "execution_count": null,
      "outputs": [
        {
          "output_type": "execute_result",
          "data": {
            "text/plain": [
              "array([[ 1,  2,  3,  0],\n",
              "       [ 0,  0,  0,  0],\n",
              "       [ 4,  8, 12,  0],\n",
              "       [-1, -2, -3,  0]])"
            ]
          },
          "metadata": {},
          "execution_count": 29
        }
      ]
    },
    {
      "cell_type": "code",
      "metadata": {
        "colab": {
          "base_uri": "https://localhost:8080/"
        },
        "id": "8DpIV9yWLpfP",
        "outputId": "d6f762ab-9fec-4eb0-fdf4-0ae29c668811"
      },
      "source": [
        "X@Y.T"
      ],
      "execution_count": null,
      "outputs": [
        {
          "output_type": "execute_result",
          "data": {
            "text/plain": [
              "array([[13]])"
            ]
          },
          "metadata": {},
          "execution_count": 30
        }
      ]
    },
    {
      "cell_type": "markdown",
      "metadata": {
        "id": "9SfFznDDLt8d"
      },
      "source": [
        "And you can see that when you try to multiply A and B, it returns ValueError pertaining to matrix shape mismatch."
      ]
    },
    {
      "cell_type": "markdown",
      "metadata": {
        "id": "d2kgEpdtLuQy"
      },
      "source": [
        "##**Rule 2: Dot Product has special properties**\n",
        "\n",
        "Dot products are prevalent in matrix algebra, this implies that it has several unique properties and it should be considered when formulation solutions:\n",
        "\n",
        "1. $A \\cdot B \\neq B \\cdot A$\n",
        "2. $A \\cdot (B \\cdot C) = (A \\cdot B) \\cdot C$\n",
        "3. $A\\cdot(B+C) = A\\cdot B + A\\cdot C$\n",
        "4. $(B+C)\\cdot A = B\\cdot A + C\\cdot A$\n",
        "5. $A\\cdot I = A$\n",
        "6. $A\\cdot \\emptyset = \\emptyset$\n",
        "\n",
        "I'll be doing just one of the properties and I'll leave the rest to test your skills!"
      ]
    },
    {
      "cell_type": "code",
      "metadata": {
        "id": "488pD8pHLz4L"
      },
      "source": [
        "A = np.array([\n",
        "    [2,4,4],\n",
        "    [5,-2,2],\n",
        "    [0,1,1]\n",
        "])\n",
        "B = np.array([\n",
        "    [1,1,5],\n",
        "    [3,3,3],\n",
        "    [-1,-2,3]\n",
        "])\n",
        "C = np.array([\n",
        "    [0,1,1],\n",
        "    [1,1,2],\n",
        "    [4,2,6]\n",
        "])"
      ],
      "execution_count": null,
      "outputs": []
    },
    {
      "cell_type": "code",
      "metadata": {
        "colab": {
          "base_uri": "https://localhost:8080/"
        },
        "id": "Jn51Xo3dMM8j",
        "outputId": "3b7001ff-f45d-47ee-91b6-a97b917a57db"
      },
      "source": [
        "np.array_equiv(A@B, B@A)"
      ],
      "execution_count": null,
      "outputs": [
        {
          "output_type": "execute_result",
          "data": {
            "text/plain": [
              "False"
            ]
          },
          "metadata": {},
          "execution_count": 40
        }
      ]
    },
    {
      "cell_type": "code",
      "metadata": {
        "colab": {
          "base_uri": "https://localhost:8080/"
        },
        "id": "RYielITBMOzh",
        "outputId": "9631a0e7-f07c-4a20-a4f7-b7b3c4074422"
      },
      "source": [
        "A@B"
      ],
      "execution_count": null,
      "outputs": [
        {
          "output_type": "execute_result",
          "data": {
            "text/plain": [
              "array([[10,  6, 34],\n",
              "       [-3, -5, 25],\n",
              "       [ 2,  1,  6]])"
            ]
          },
          "metadata": {},
          "execution_count": 41
        }
      ]
    },
    {
      "cell_type": "code",
      "metadata": {
        "colab": {
          "base_uri": "https://localhost:8080/"
        },
        "id": "6ZwCjbkUMPG2",
        "outputId": "7480d3da-7dcc-4f95-82e6-33982004dbb7"
      },
      "source": [
        "B@A"
      ],
      "execution_count": null,
      "outputs": [
        {
          "output_type": "execute_result",
          "data": {
            "text/plain": [
              "array([[  7,   7,  11],\n",
              "       [ 21,   9,  21],\n",
              "       [-12,   3,  -5]])"
            ]
          },
          "metadata": {},
          "execution_count": 42
        }
      ]
    },
    {
      "cell_type": "code",
      "metadata": {
        "colab": {
          "base_uri": "https://localhost:8080/"
        },
        "id": "v7aIoIoWL514",
        "outputId": "9b93d8ce-307d-40dd-ac71-c3bb960d125c"
      },
      "source": [
        "np.eye(3)"
      ],
      "execution_count": null,
      "outputs": [
        {
          "output_type": "execute_result",
          "data": {
            "text/plain": [
              "array([[1., 0., 0.],\n",
              "       [0., 1., 0.],\n",
              "       [0., 0., 1.]])"
            ]
          },
          "metadata": {},
          "execution_count": 31
        }
      ]
    },
    {
      "cell_type": "code",
      "metadata": {
        "colab": {
          "base_uri": "https://localhost:8080/"
        },
        "id": "u0J0mF2gMDqI",
        "outputId": "42004846-e5ee-47a0-af1c-be30c7aae7a4"
      },
      "source": [
        "A.dot(np.eye(3))"
      ],
      "execution_count": null,
      "outputs": [
        {
          "output_type": "execute_result",
          "data": {
            "text/plain": [
              "array([[ 2.,  4.,  4.],\n",
              "       [ 5., -2.,  2.],\n",
              "       [ 0.,  1.,  1.]])"
            ]
          },
          "metadata": {},
          "execution_count": 43
        }
      ]
    },
    {
      "cell_type": "code",
      "metadata": {
        "colab": {
          "base_uri": "https://localhost:8080/"
        },
        "id": "UmG2zAwFMEDJ",
        "outputId": "b8c0389e-26cf-420b-aef4-34387b2dcebf"
      },
      "source": [
        "A.dot(np.identity(3))"
      ],
      "execution_count": null,
      "outputs": [
        {
          "output_type": "execute_result",
          "data": {
            "text/plain": [
              "array([[ 2.,  4.,  4.],\n",
              "       [ 5., -2.,  2.],\n",
              "       [ 0.,  1.,  1.]])"
            ]
          },
          "metadata": {},
          "execution_count": 44
        }
      ]
    },
    {
      "cell_type": "code",
      "metadata": {
        "colab": {
          "base_uri": "https://localhost:8080/"
        },
        "id": "uUmBf_6nMFXf",
        "outputId": "ad35592b-f893-44af-8abe-45c52f7e87fd"
      },
      "source": [
        "A.dot(np.zeros(3))"
      ],
      "execution_count": null,
      "outputs": [
        {
          "output_type": "execute_result",
          "data": {
            "text/plain": [
              "array([0., 0., 0.])"
            ]
          },
          "metadata": {},
          "execution_count": 45
        }
      ]
    },
    {
      "cell_type": "markdown",
      "metadata": {
        "id": "o5Q36eOJMVem"
      },
      "source": [
        "##**Determinant**\n",
        "\n",
        "A determinant is a scalar value derived from a square matrix. The determinant is a fundamental and important value used in matrix algebra. Although it will not be evident in this laboratory on how it can be used practically, but it will be greatly used in future lessons.\n",
        "\n",
        "The determinant of some matrix $A$ is denoted as $det(A)$ or $|A|$. So let's say $A$ is represented as:\n",
        "\n",
        "$$A = \\begin{bmatrix} a_{(0,0)} & a_{(0,1)}\\\\a_{(1,0)} & a_{(1,1)}\\end{bmatrix}$$\n",
        "\n",
        "We can compute for the determinant as:\n",
        "\n",
        "$$|A| = a_{(0,0)}*a_{(1,1)} - a_{(1,0)}*a_{(0,1)}$$\n",
        "\n",
        "So if we have $A$ as:\n",
        "\n",
        "$$A = \\begin{bmatrix}1&amp;4\\\\0&amp;3\\end{bmatrix}, |A| = 3$$\n",
        "\n",
        "But you might wonder how about square matrices beyond the shape $(2,2)$? We can approach this problem by using several methods such as co-factor expansion and the minors method. This can be taught in the lecture of the laboratory but we can achieve the strenuous computation of high-dimensional matrices programmatically using Python. We can achieve this by using np.linalg.det()."
      ]
    },
    {
      "cell_type": "code",
      "metadata": {
        "colab": {
          "base_uri": "https://localhost:8080/"
        },
        "id": "Kfz8fnjWMX5h",
        "outputId": "01877adc-61ef-4d5d-ab10-3e9b023f46b2"
      },
      "source": [
        "A = np.array([\n",
        "    [1,4],\n",
        "    [0,3]\n",
        "])\n",
        "np.linalg.det(A)"
      ],
      "execution_count": null,
      "outputs": [
        {
          "output_type": "execute_result",
          "data": {
            "text/plain": [
              "3.0000000000000004"
            ]
          },
          "metadata": {},
          "execution_count": 46
        }
      ]
    },
    {
      "cell_type": "code",
      "metadata": {
        "colab": {
          "base_uri": "https://localhost:8080/"
        },
        "id": "q1la6lxxMZMo",
        "outputId": "348da993-48be-425c-ce54-5e4facbfff7a"
      },
      "source": [
        "B = np.array([\n",
        "    [1,5,2],\n",
        "    [3,-1,-1],\n",
        "    [0,-2,1]\n",
        "])\n",
        "np.linalg.det(B)"
      ],
      "execution_count": null,
      "outputs": [
        {
          "output_type": "execute_result",
          "data": {
            "text/plain": [
              "-30.000000000000014"
            ]
          },
          "metadata": {},
          "execution_count": 47
        }
      ]
    },
    {
      "cell_type": "code",
      "metadata": {
        "colab": {
          "base_uri": "https://localhost:8080/"
        },
        "id": "5sGO-m0CMbbG",
        "outputId": "5e281cc4-aa6f-4d40-8a42-2f315a8f7611"
      },
      "source": [
        "B = np.array([\n",
        "    [1,3,5,6],\n",
        "    [0,3,1,3],\n",
        "    [3,1,8,2],\n",
        "    [5,2,6,8]\n",
        "])\n",
        "np.linalg.det(B)"
      ],
      "execution_count": null,
      "outputs": [
        {
          "output_type": "execute_result",
          "data": {
            "text/plain": [
              "-235.0000000000002"
            ]
          },
          "metadata": {},
          "execution_count": 48
        }
      ]
    },
    {
      "cell_type": "markdown",
      "metadata": {
        "id": "H9ommRY-MfCh"
      },
      "source": [
        "##**Inverse**\n",
        "\n",
        "The inverse of a matrix is another fundamental operation in matrix algebra. Determining the inverse of a matrix let us determine if its solvability and its characteristic as a system of linear equation — we'll expand on this in the next module. Another use of the inverse matrix is solving the problem of divisibility between matrices. Although element-wise division exists but dividing the entire concept of matrices does not exists. Inverse matrices provides a related operation that could have the same concept of \"dividing\" matrices.\n",
        "\n",
        "Now to determine the inverse of a matrix we need to perform several steps. So let's say we have a matrix $M$:\n",
        "\n",
        "$$M = \\begin{bmatrix}1&amp;7\\\\-3&amp;5\\end{bmatrix}$$\n",
        "\n",
        "First, we need to get the determinant of $M$.\n",
        "\n",
        "$$|M| = (1)(5)-(-3)(7) = 26$$\n",
        "\n",
        "Next, we need to reform the matrix into the inverse form:\n",
        "\n",
        "$$M^{-1} = \\frac{1}{|M|} \\begin{bmatrix} m_{(1,1)} &amp; -m_{(0,1)} \\\\ -m_{(1,0)} &amp; m_{(0,0)}\\end{bmatrix}$$\n",
        "\n",
        "So that will be:\n",
        "\n",
        "$$M^{-1} = \\frac{1}{26} \\begin{bmatrix} 5 & -7 \\\\ 3 & 1\\end{bmatrix} = \\begin{bmatrix} \\frac{5}{26} & \\frac{-7}{26} \\frac{3}{26} & \\frac{1}{26}\\end{bmatrix}$$\n",
        "\n",
        "For higher-dimension matrices you might need to use co-factors, minors, adjugates, and other reduction techinques. To solve this programmatially we can use np.linalg.inv()."
      ]
    },
    {
      "cell_type": "code",
      "metadata": {
        "colab": {
          "base_uri": "https://localhost:8080/"
        },
        "id": "dRJ7Q9xkMhoz",
        "outputId": "6a214176-dd5c-4cef-c12c-433de2edfe3b"
      },
      "source": [
        "M = np.array([\n",
        "    [1,7],\n",
        "    [-3,5]\n",
        "])\n",
        "np.array(M@np.linalg.inv(M), dtype=int)"
      ],
      "execution_count": null,
      "outputs": [
        {
          "output_type": "execute_result",
          "data": {
            "text/plain": [
              "array([[1, 0],\n",
              "       [0, 1]])"
            ]
          },
          "metadata": {},
          "execution_count": 49
        }
      ]
    },
    {
      "cell_type": "code",
      "metadata": {
        "colab": {
          "base_uri": "https://localhost:8080/"
        },
        "id": "1uX3JfghMjPS",
        "outputId": "ba7798b1-f0c0-4224-aa2c-91a287cac1bf"
      },
      "source": [
        "P = np.array([\n",
        "    [6,9,0],\n",
        "    [4,2,-1],\n",
        "    [3,6,7]\n",
        "])\n",
        "Q = np.linalg.inv(P)\n",
        "Q"
      ],
      "execution_count": null,
      "outputs": [
        {
          "output_type": "execute_result",
          "data": {
            "text/plain": [
              "array([[-0.12578616,  0.39622642,  0.05660377],\n",
              "       [ 0.19496855, -0.26415094, -0.03773585],\n",
              "       [-0.11320755,  0.05660377,  0.1509434 ]])"
            ]
          },
          "metadata": {},
          "execution_count": 50
        }
      ]
    },
    {
      "cell_type": "code",
      "metadata": {
        "colab": {
          "base_uri": "https://localhost:8080/"
        },
        "id": "loZ2GykKMke6",
        "outputId": "6b2f277b-dbc9-40f8-b94f-98bc5978af3e"
      },
      "source": [
        "np.array(P@Q)"
      ],
      "execution_count": null,
      "outputs": [
        {
          "output_type": "execute_result",
          "data": {
            "text/plain": [
              "array([[ 1.00000000e+00, -5.55111512e-17, -6.93889390e-18],\n",
              "       [ 8.32667268e-17,  1.00000000e+00, -2.77555756e-17],\n",
              "       [ 2.77555756e-17, -1.38777878e-17,  1.00000000e+00]])"
            ]
          },
          "metadata": {},
          "execution_count": 51
        }
      ]
    },
    {
      "cell_type": "code",
      "metadata": {
        "colab": {
          "base_uri": "https://localhost:8080/"
        },
        "id": "8Q-f5OxGMl6Z",
        "outputId": "f59c3fa3-6852-4ce0-d777-53c7df10f831"
      },
      "source": [
        "np.array(P@Q, dtype=int)"
      ],
      "execution_count": null,
      "outputs": [
        {
          "output_type": "execute_result",
          "data": {
            "text/plain": [
              "array([[1, 0, 0],\n",
              "       [0, 0, 0],\n",
              "       [0, 0, 1]])"
            ]
          },
          "metadata": {},
          "execution_count": 52
        }
      ]
    },
    {
      "cell_type": "code",
      "metadata": {
        "id": "cvQy7m1yMnYR"
      },
      "source": [
        "R = np.array([\n",
        "    [5,3,1],\n",
        "    [6,1,-6],\n",
        "    [1,3,8]\n",
        "])\n",
        "Q = np.linalg.inv(R)"
      ],
      "execution_count": null,
      "outputs": []
    },
    {
      "cell_type": "code",
      "metadata": {
        "colab": {
          "base_uri": "https://localhost:8080/"
        },
        "id": "rmUda2-hMn25",
        "outputId": "8be9c360-594c-4f53-fd6f-0137fa08dea1"
      },
      "source": [
        "np.array(R@Q)"
      ],
      "execution_count": null,
      "outputs": [
        {
          "output_type": "execute_result",
          "data": {
            "text/plain": [
              "array([[ 1.00000000e+00, -1.99840144e-15,  9.99200722e-16],\n",
              "       [ 0.00000000e+00,  1.00000000e+00,  2.22044605e-16],\n",
              "       [ 0.00000000e+00,  0.00000000e+00,  1.00000000e+00]])"
            ]
          },
          "metadata": {},
          "execution_count": 54
        }
      ]
    },
    {
      "cell_type": "code",
      "metadata": {
        "colab": {
          "base_uri": "https://localhost:8080/"
        },
        "id": "vFEW7VPcMpDg",
        "outputId": "feffa6d7-6c35-4659-f36a-9159b8aa93ad"
      },
      "source": [
        "np.array(R@Q, dtype=int)"
      ],
      "execution_count": null,
      "outputs": [
        {
          "output_type": "execute_result",
          "data": {
            "text/plain": [
              "array([[0, 0, 0],\n",
              "       [0, 0, 0],\n",
              "       [0, 0, 1]])"
            ]
          },
          "metadata": {},
          "execution_count": 55
        }
      ]
    },
    {
      "cell_type": "code",
      "metadata": {
        "colab": {
          "base_uri": "https://localhost:8080/"
        },
        "id": "o54yg0qhMqPc",
        "outputId": "0dec5c94-6916-4b60-c28b-3a6cd19741df"
      },
      "source": [
        "N = np.array([\n",
        "    [18,5,23,1,0,33,5],\n",
        "    [0,45,0,11,2,4,2],\n",
        "    [5,9,20,0,0,0,3],\n",
        "    [1,6,4,4,8,43,1],\n",
        "    [8,6,8,7,1,6,1],\n",
        "    [-5,15,2,0,0,6,-30],\n",
        "    [-2,-5,1,2,1,20,12],\n",
        "])\n",
        "N_inv = np.linalg.inv(N)\n",
        "np.array(N @ N_inv,dtype=int)"
      ],
      "execution_count": null,
      "outputs": [
        {
          "output_type": "execute_result",
          "data": {
            "text/plain": [
              "array([[0, 0, 0, 0, 0, 0, 0],\n",
              "       [0, 0, 0, 0, 0, 0, 0],\n",
              "       [0, 0, 1, 0, 0, 0, 0],\n",
              "       [0, 0, 0, 1, 0, 0, 0],\n",
              "       [0, 0, 0, 0, 0, 0, 0],\n",
              "       [0, 0, 0, 0, 0, 0, 0],\n",
              "       [0, 0, 0, 0, 0, 0, 1]])"
            ]
          },
          "metadata": {},
          "execution_count": 56
        }
      ]
    },
    {
      "cell_type": "markdown",
      "metadata": {
        "id": "yU5LqDt4M_EB"
      },
      "source": [
        "To validate the wether if the matric that you have solved is really the inverse, we follow this dot product property for a matrix $M$:\n",
        "\n",
        "$$M\\cdot M^{-1} = I$$"
      ]
    },
    {
      "cell_type": "code",
      "metadata": {
        "colab": {
          "base_uri": "https://localhost:8080/"
        },
        "id": "j_y80pWJM_vx",
        "outputId": "e0ea2109-21ed-48ef-fdc9-96189001744d"
      },
      "source": [
        "squad = np.array([\n",
        "    [1.0, 1.0, 0.5],\n",
        "    [0.7, 0.7, 0.9],\n",
        "    [0.3, 0.3, 1.0]\n",
        "])\n",
        "weights = np.array([\n",
        "    [0.2, 0.2, 0.6]\n",
        "])\n",
        "p_grade = squad @ weights.T\n",
        "p_grade"
      ],
      "execution_count": null,
      "outputs": [
        {
          "output_type": "execute_result",
          "data": {
            "text/plain": [
              "array([[0.7 ],\n",
              "       [0.82],\n",
              "       [0.72]])"
            ]
          },
          "metadata": {},
          "execution_count": 57
        }
      ]
    },
    {
      "cell_type": "markdown",
      "metadata": {
        "id": "2oHBxdZqNH5b"
      },
      "source": [
        "##**Activity**\n",
        "\n",
        "####**Task 1**\n",
        "\n",
        "Prove and implement the remaining 6 matrix multiplication properties. You may create your own matrices in which their shapes should not be lower than $(3,3)$. In your methodology, create individual flowcharts for each property and discuss the property you would then present your proofs or validity of your implementation in the results section by comparing your result to present functions from NumPy.\n",
        "\n",
        "1. $A \\cdot B \\neq B \\cdot A$\n",
        "2. $A \\cdot (B \\cdot C) = (A \\cdot B) \\cdot C$\n",
        "3. $A\\cdot(B+C) = A\\cdot B + A\\cdot C$\n",
        "4. $(B+C)\\cdot A = B\\cdot A + C\\cdot A$\n",
        "5. $A\\cdot I = A$\n",
        "6. $A\\cdot \\emptyset = \\emptyset$"
      ]
    },
    {
      "cell_type": "code",
      "metadata": {
        "id": "m64mkW7lNN4a"
      },
      "source": [
        "A = np.array([\n",
        "    [3,9,7,5],\n",
        "    [-5,2,4,6],\n",
        "    [6,-3,8,2],\n",
        "    [4,2,-3,7]\n",
        "])\n",
        "B = np.array([\n",
        "    [6,3,8,2],\n",
        "    [8,4,1,7],\n",
        "    [7,4,-6,2],\n",
        "])\n",
        "C = np.array([\n",
        "    [2,5,7,8],\n",
        "    [7,4,3,6],\n",
        "    [6,3,1,4],\n",
        "    [5,7,2,4]\n",
        "])"
      ],
      "execution_count": null,
      "outputs": []
    },
    {
      "cell_type": "code",
      "metadata": {
        "colab": {
          "base_uri": "https://localhost:8080/"
        },
        "id": "7SoWhnjEUBsC",
        "outputId": "9675bf69-d367-4da8-a860-4019e3ccc4ea"
      },
      "source": [
        "#1.\n",
        "\n",
        "np.array_equiv(A@B, B@A)"
      ],
      "execution_count": null,
      "outputs": [
        {
          "output_type": "execute_result",
          "data": {
            "text/plain": [
              "False"
            ]
          },
          "metadata": {},
          "execution_count": 78
        }
      ]
    },
    {
      "cell_type": "markdown",
      "metadata": {
        "id": "Lz-ONZIuSsaZ"
      },
      "source": [
        "![1.PNG](data:image/png;base64,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)"
      ]
    },
    {
      "cell_type": "code",
      "metadata": {
        "colab": {
          "base_uri": "https://localhost:8080/"
        },
        "id": "F5WlTR_jTb7p",
        "outputId": "bed9cde8-5fda-41bd-f173-deb07692a2fc"
      },
      "source": [
        "#2.\n",
        "\n",
        "X = A@(B@C)\n",
        "Y = (A@B)@C\n",
        "np.array_equal(X,Y)"
      ],
      "execution_count": null,
      "outputs": [
        {
          "output_type": "execute_result",
          "data": {
            "text/plain": [
              "True"
            ]
          },
          "metadata": {},
          "execution_count": 80
        }
      ]
    },
    {
      "cell_type": "markdown",
      "metadata": {
        "id": "-j_ym3iFWwMi"
      },
      "source": [
        "![2.PNG](data:image/png;base64,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)"
      ]
    },
    {
      "cell_type": "code",
      "metadata": {
        "colab": {
          "base_uri": "https://localhost:8080/"
        },
        "id": "N9b3aIx2WyFN",
        "outputId": "e63efab6-213d-4ed0-8e7a-583b765cdb65"
      },
      "source": [
        "#3\n",
        "\n",
        "X = A@(B+C)\n",
        "Y = A@B+A@C\n",
        "np.array_equal(X,Y)"
      ],
      "execution_count": null,
      "outputs": [
        {
          "output_type": "execute_result",
          "data": {
            "text/plain": [
              "True"
            ]
          },
          "metadata": {},
          "execution_count": 81
        }
      ]
    },
    {
      "cell_type": "markdown",
      "metadata": {
        "id": "84M8Je17XoTk"
      },
      "source": [
        "![3.PNG](data:image/png;base64,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)"
      ]
    },
    {
      "cell_type": "code",
      "metadata": {
        "colab": {
          "base_uri": "https://localhost:8080/"
        },
        "id": "CawO3qhdXukF",
        "outputId": "0dc3076e-6d52-4acb-aed1-4ecb7cce8a10"
      },
      "source": [
        "#4.\n",
        "\n",
        "X = (B+C)@A\n",
        "Y = B@A+C@A\n",
        "np.array_equal(X,Y)"
      ],
      "execution_count": null,
      "outputs": [
        {
          "output_type": "execute_result",
          "data": {
            "text/plain": [
              "True"
            ]
          },
          "metadata": {},
          "execution_count": 82
        }
      ]
    },
    {
      "cell_type": "markdown",
      "metadata": {
        "id": "a7BhPz33YLbn"
      },
      "source": [
        "![4.PNG](data:image/png;base64,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)"
      ]
    },
    {
      "cell_type": "code",
      "metadata": {
        "colab": {
          "base_uri": "https://localhost:8080/"
        },
        "id": "4bAHI5l9YMyv",
        "outputId": "eb6f7c44-4675-4281-9318-60b7561b927f"
      },
      "source": [
        "#5. \n",
        "np.eye(6)"
      ],
      "execution_count": null,
      "outputs": [
        {
          "output_type": "execute_result",
          "data": {
            "text/plain": [
              "array([[1., 0., 0., 0., 0., 0.],\n",
              "       [0., 1., 0., 0., 0., 0.],\n",
              "       [0., 0., 1., 0., 0., 0.],\n",
              "       [0., 0., 0., 1., 0., 0.],\n",
              "       [0., 0., 0., 0., 1., 0.],\n",
              "       [0., 0., 0., 0., 0., 1.]])"
            ]
          },
          "metadata": {},
          "execution_count": 84
        }
      ]
    },
    {
      "cell_type": "markdown",
      "metadata": {
        "id": "B29eX94KZxKO"
      },
      "source": [
        "![5.PNG](data:image/png;base64,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)"
      ]
    },
    {
      "cell_type": "code",
      "metadata": {
        "colab": {
          "base_uri": "https://localhost:8080/"
        },
        "id": "_sEE0ofVZya_",
        "outputId": "a2e8a89f-6dc5-40d8-a9c3-e517d88c251e"
      },
      "source": [
        "#6. \n",
        "\n",
        "C.dot(np.zeros(4))"
      ],
      "execution_count": null,
      "outputs": [
        {
          "output_type": "execute_result",
          "data": {
            "text/plain": [
              "array([0., 0., 0., 0.])"
            ]
          },
          "metadata": {},
          "execution_count": 91
        }
      ]
    },
    {
      "cell_type": "markdown",
      "metadata": {
        "id": "t0k3ghUYaVIF"
      },
      "source": [
        "![6.PNG](data:image/png;base64,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)"
      ]
    },
    {
      "cell_type": "markdown",
      "metadata": {
        "id": "bxhfJvIUahUz"
      },
      "source": [
        "Conclusion\n"
      ]
    },
    {
      "cell_type": "markdown",
      "metadata": {
        "id": "tlbQ6_DQcqOa"
      },
      "source": [
        ""
      ]
    }
  ]
}